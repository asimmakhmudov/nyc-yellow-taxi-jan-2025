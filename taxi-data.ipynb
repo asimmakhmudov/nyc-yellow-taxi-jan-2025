{
 "cells": [
  {
   "cell_type": "markdown",
   "id": "b691fd33-ee8a-4030-b85d-0dc8636d5053",
   "metadata": {},
   "source": [
    "# Structure of project <a id='structure_of_project'></a>\n",
    "\n",
    "0. [Import Libraries](#imports)\n",
    "1. [Import Data](#import_data)\n",
    "2. [Data Exploration](#data_exploration)\n",
    "3. [Data Cleaning](#data_cleaning)\n",
    "4. [Data Preparation](#data_preparation)\n",
    "5. [Benchmark Model](#benchmark_model)</br>\n",
    "5.1. [Train-test split](#train_test_split)</br>\n",
    "5.2. [Fit a model to the data](#fit_model_to_data)</br>\n",
    "5.2. [Model evaluation](#model_evaluation)</br>\n",
    "6. [Feature Engineering](#feature_engineering)\n",
    "7. [Model Training](#model_training)"
   ]
  },
  {
   "cell_type": "markdown",
   "id": "f784ff99-ddb9-434d-9cb4-7f8dd58b47cf",
   "metadata": {},
   "source": [
    "## 0. Import Libraries <a id='imports'></a>\n",
    "[Back to top](#structure_of_project)"
   ]
  },
  {
   "cell_type": "code",
   "execution_count": 124,
   "id": "6121f8e5-3808-4a65-b636-28b9da26941b",
   "metadata": {},
   "outputs": [],
   "source": [
    "import numpy as np\n",
    "import pandas as pd\n",
    "from math import sqrt\n",
    "from datetime import datetime\n",
    "import matplotlib.pyplot as plt\n",
    "from meteostat import Hourly, Point\n",
    "from sklearn.metrics import r2_score\n",
    "from sklearn.tree import DecisionTreeRegressor\n",
    "from sklearn.metrics import mean_squared_error\n",
    "from sklearn.metrics import mean_absolute_error\n",
    "from sklearn.model_selection import train_test_split\n",
    "from pandas.tseries.holiday import USFederalHolidayCalendar"
   ]
  },
  {
   "cell_type": "markdown",
   "id": "0eae1348-8fe7-4d28-894d-106dbc0f0ef1",
   "metadata": {},
   "source": [
    "## 1. Import Data <a id='import_data'></a>\n",
    "[Back to top](#structure_of_project)"
   ]
  },
  {
   "cell_type": "code",
   "execution_count": 125,
   "id": "7eafbcfc-cc58-459c-ac60-12473ae7dad1",
   "metadata": {},
   "outputs": [],
   "source": [
    "taxi_jan_2025 = pd.read_parquet('data/yellow_tripdata_2025-01.parquet')\n",
    "taxi_data = pd.concat([taxi_jan_2025])\n",
    "\n",
    "zone_lookup = pd.read_csv('data/taxi_zone_lookup.csv')"
   ]
  },
  {
   "cell_type": "code",
   "execution_count": 126,
   "id": "d74bd81b-26fd-4a6b-8a11-0421bee90bfb",
   "metadata": {},
   "outputs": [
    {
     "name": "stdout",
     "output_type": "stream",
     "text": [
      "(3475226, 20)\n"
     ]
    },
    {
     "data": {
      "text/html": [
       "<div>\n",
       "<style scoped>\n",
       "    .dataframe tbody tr th:only-of-type {\n",
       "        vertical-align: middle;\n",
       "    }\n",
       "\n",
       "    .dataframe tbody tr th {\n",
       "        vertical-align: top;\n",
       "    }\n",
       "\n",
       "    .dataframe thead th {\n",
       "        text-align: right;\n",
       "    }\n",
       "</style>\n",
       "<table border=\"1\" class=\"dataframe\">\n",
       "  <thead>\n",
       "    <tr style=\"text-align: right;\">\n",
       "      <th></th>\n",
       "      <th>VendorID</th>\n",
       "      <th>tpep_pickup_datetime</th>\n",
       "      <th>tpep_dropoff_datetime</th>\n",
       "      <th>passenger_count</th>\n",
       "      <th>trip_distance</th>\n",
       "      <th>RatecodeID</th>\n",
       "      <th>store_and_fwd_flag</th>\n",
       "      <th>PULocationID</th>\n",
       "      <th>DOLocationID</th>\n",
       "      <th>payment_type</th>\n",
       "      <th>fare_amount</th>\n",
       "      <th>extra</th>\n",
       "      <th>mta_tax</th>\n",
       "      <th>tip_amount</th>\n",
       "      <th>tolls_amount</th>\n",
       "      <th>improvement_surcharge</th>\n",
       "      <th>total_amount</th>\n",
       "      <th>congestion_surcharge</th>\n",
       "      <th>Airport_fee</th>\n",
       "      <th>cbd_congestion_fee</th>\n",
       "    </tr>\n",
       "  </thead>\n",
       "  <tbody>\n",
       "    <tr>\n",
       "      <th>0</th>\n",
       "      <td>1</td>\n",
       "      <td>2025-01-01 00:18:38</td>\n",
       "      <td>2025-01-01 00:26:59</td>\n",
       "      <td>1.0</td>\n",
       "      <td>1.60</td>\n",
       "      <td>1.0</td>\n",
       "      <td>N</td>\n",
       "      <td>229</td>\n",
       "      <td>237</td>\n",
       "      <td>1</td>\n",
       "      <td>10.0</td>\n",
       "      <td>3.5</td>\n",
       "      <td>0.5</td>\n",
       "      <td>3.00</td>\n",
       "      <td>0.0</td>\n",
       "      <td>1.0</td>\n",
       "      <td>18.00</td>\n",
       "      <td>2.5</td>\n",
       "      <td>0.0</td>\n",
       "      <td>0.0</td>\n",
       "    </tr>\n",
       "    <tr>\n",
       "      <th>1</th>\n",
       "      <td>1</td>\n",
       "      <td>2025-01-01 00:32:40</td>\n",
       "      <td>2025-01-01 00:35:13</td>\n",
       "      <td>1.0</td>\n",
       "      <td>0.50</td>\n",
       "      <td>1.0</td>\n",
       "      <td>N</td>\n",
       "      <td>236</td>\n",
       "      <td>237</td>\n",
       "      <td>1</td>\n",
       "      <td>5.1</td>\n",
       "      <td>3.5</td>\n",
       "      <td>0.5</td>\n",
       "      <td>2.02</td>\n",
       "      <td>0.0</td>\n",
       "      <td>1.0</td>\n",
       "      <td>12.12</td>\n",
       "      <td>2.5</td>\n",
       "      <td>0.0</td>\n",
       "      <td>0.0</td>\n",
       "    </tr>\n",
       "    <tr>\n",
       "      <th>2</th>\n",
       "      <td>1</td>\n",
       "      <td>2025-01-01 00:44:04</td>\n",
       "      <td>2025-01-01 00:46:01</td>\n",
       "      <td>1.0</td>\n",
       "      <td>0.60</td>\n",
       "      <td>1.0</td>\n",
       "      <td>N</td>\n",
       "      <td>141</td>\n",
       "      <td>141</td>\n",
       "      <td>1</td>\n",
       "      <td>5.1</td>\n",
       "      <td>3.5</td>\n",
       "      <td>0.5</td>\n",
       "      <td>2.00</td>\n",
       "      <td>0.0</td>\n",
       "      <td>1.0</td>\n",
       "      <td>12.10</td>\n",
       "      <td>2.5</td>\n",
       "      <td>0.0</td>\n",
       "      <td>0.0</td>\n",
       "    </tr>\n",
       "    <tr>\n",
       "      <th>3</th>\n",
       "      <td>2</td>\n",
       "      <td>2025-01-01 00:14:27</td>\n",
       "      <td>2025-01-01 00:20:01</td>\n",
       "      <td>3.0</td>\n",
       "      <td>0.52</td>\n",
       "      <td>1.0</td>\n",
       "      <td>N</td>\n",
       "      <td>244</td>\n",
       "      <td>244</td>\n",
       "      <td>2</td>\n",
       "      <td>7.2</td>\n",
       "      <td>1.0</td>\n",
       "      <td>0.5</td>\n",
       "      <td>0.00</td>\n",
       "      <td>0.0</td>\n",
       "      <td>1.0</td>\n",
       "      <td>9.70</td>\n",
       "      <td>0.0</td>\n",
       "      <td>0.0</td>\n",
       "      <td>0.0</td>\n",
       "    </tr>\n",
       "    <tr>\n",
       "      <th>4</th>\n",
       "      <td>2</td>\n",
       "      <td>2025-01-01 00:21:34</td>\n",
       "      <td>2025-01-01 00:25:06</td>\n",
       "      <td>3.0</td>\n",
       "      <td>0.66</td>\n",
       "      <td>1.0</td>\n",
       "      <td>N</td>\n",
       "      <td>244</td>\n",
       "      <td>116</td>\n",
       "      <td>2</td>\n",
       "      <td>5.8</td>\n",
       "      <td>1.0</td>\n",
       "      <td>0.5</td>\n",
       "      <td>0.00</td>\n",
       "      <td>0.0</td>\n",
       "      <td>1.0</td>\n",
       "      <td>8.30</td>\n",
       "      <td>0.0</td>\n",
       "      <td>0.0</td>\n",
       "      <td>0.0</td>\n",
       "    </tr>\n",
       "  </tbody>\n",
       "</table>\n",
       "</div>"
      ],
      "text/plain": [
       "   VendorID tpep_pickup_datetime tpep_dropoff_datetime  passenger_count  \\\n",
       "0         1  2025-01-01 00:18:38   2025-01-01 00:26:59              1.0   \n",
       "1         1  2025-01-01 00:32:40   2025-01-01 00:35:13              1.0   \n",
       "2         1  2025-01-01 00:44:04   2025-01-01 00:46:01              1.0   \n",
       "3         2  2025-01-01 00:14:27   2025-01-01 00:20:01              3.0   \n",
       "4         2  2025-01-01 00:21:34   2025-01-01 00:25:06              3.0   \n",
       "\n",
       "   trip_distance  RatecodeID store_and_fwd_flag  PULocationID  DOLocationID  \\\n",
       "0           1.60         1.0                  N           229           237   \n",
       "1           0.50         1.0                  N           236           237   \n",
       "2           0.60         1.0                  N           141           141   \n",
       "3           0.52         1.0                  N           244           244   \n",
       "4           0.66         1.0                  N           244           116   \n",
       "\n",
       "   payment_type  fare_amount  extra  mta_tax  tip_amount  tolls_amount  \\\n",
       "0             1         10.0    3.5      0.5        3.00           0.0   \n",
       "1             1          5.1    3.5      0.5        2.02           0.0   \n",
       "2             1          5.1    3.5      0.5        2.00           0.0   \n",
       "3             2          7.2    1.0      0.5        0.00           0.0   \n",
       "4             2          5.8    1.0      0.5        0.00           0.0   \n",
       "\n",
       "   improvement_surcharge  total_amount  congestion_surcharge  Airport_fee  \\\n",
       "0                    1.0         18.00                   2.5          0.0   \n",
       "1                    1.0         12.12                   2.5          0.0   \n",
       "2                    1.0         12.10                   2.5          0.0   \n",
       "3                    1.0          9.70                   0.0          0.0   \n",
       "4                    1.0          8.30                   0.0          0.0   \n",
       "\n",
       "   cbd_congestion_fee  \n",
       "0                 0.0  \n",
       "1                 0.0  \n",
       "2                 0.0  \n",
       "3                 0.0  \n",
       "4                 0.0  "
      ]
     },
     "execution_count": 126,
     "metadata": {},
     "output_type": "execute_result"
    }
   ],
   "source": [
    "print(taxi_data.shape)\n",
    "taxi_data.head()"
   ]
  },
  {
   "cell_type": "markdown",
   "id": "6a9b522b-ac0c-40ca-9619-1822a1439a91",
   "metadata": {
    "jp-MarkdownHeadingCollapsed": true
   },
   "source": [
    "## 2. Data Exploration <a id='data_exploration'></a>\n",
    "[Back to top](#structure_of_project)"
   ]
  },
  {
   "cell_type": "code",
   "execution_count": 127,
   "id": "ddbe9e3e-24dd-4480-8966-6b29675a6550",
   "metadata": {},
   "outputs": [
    {
     "data": {
      "text/plain": [
       "Index(['VendorID', 'tpep_pickup_datetime', 'tpep_dropoff_datetime',\n",
       "       'passenger_count', 'trip_distance', 'RatecodeID', 'store_and_fwd_flag',\n",
       "       'PULocationID', 'DOLocationID', 'payment_type', 'fare_amount', 'extra',\n",
       "       'mta_tax', 'tip_amount', 'tolls_amount', 'improvement_surcharge',\n",
       "       'total_amount', 'congestion_surcharge', 'Airport_fee',\n",
       "       'cbd_congestion_fee'],\n",
       "      dtype='object')"
      ]
     },
     "execution_count": 127,
     "metadata": {},
     "output_type": "execute_result"
    }
   ],
   "source": [
    "taxi_data.columns"
   ]
  },
  {
   "cell_type": "code",
   "execution_count": 128,
   "id": "ca1545eb-fafd-456b-802b-78e51749b868",
   "metadata": {},
   "outputs": [],
   "source": [
    "taxi_data = taxi_data[['tpep_pickup_datetime', 'tpep_dropoff_datetime', 'passenger_count', 'trip_distance', 'RatecodeID', 'PULocationID', 'DOLocationID', 'payment_type', 'total_amount']]"
   ]
  },
  {
   "cell_type": "code",
   "execution_count": 129,
   "id": "f29f603c-6b65-464f-a811-17ea87cbf689",
   "metadata": {},
   "outputs": [
    {
     "data": {
      "text/html": [
       "<div>\n",
       "<style scoped>\n",
       "    .dataframe tbody tr th:only-of-type {\n",
       "        vertical-align: middle;\n",
       "    }\n",
       "\n",
       "    .dataframe tbody tr th {\n",
       "        vertical-align: top;\n",
       "    }\n",
       "\n",
       "    .dataframe thead th {\n",
       "        text-align: right;\n",
       "    }\n",
       "</style>\n",
       "<table border=\"1\" class=\"dataframe\">\n",
       "  <thead>\n",
       "    <tr style=\"text-align: right;\">\n",
       "      <th></th>\n",
       "      <th>tpep_pickup_datetime</th>\n",
       "      <th>tpep_dropoff_datetime</th>\n",
       "      <th>passenger_count</th>\n",
       "      <th>trip_distance</th>\n",
       "      <th>RatecodeID</th>\n",
       "      <th>PULocationID</th>\n",
       "      <th>DOLocationID</th>\n",
       "      <th>payment_type</th>\n",
       "      <th>total_amount</th>\n",
       "    </tr>\n",
       "  </thead>\n",
       "  <tbody>\n",
       "    <tr>\n",
       "      <th>0</th>\n",
       "      <td>2025-01-01 00:18:38</td>\n",
       "      <td>2025-01-01 00:26:59</td>\n",
       "      <td>1.0</td>\n",
       "      <td>1.60</td>\n",
       "      <td>1.0</td>\n",
       "      <td>229</td>\n",
       "      <td>237</td>\n",
       "      <td>1</td>\n",
       "      <td>18.00</td>\n",
       "    </tr>\n",
       "    <tr>\n",
       "      <th>1</th>\n",
       "      <td>2025-01-01 00:32:40</td>\n",
       "      <td>2025-01-01 00:35:13</td>\n",
       "      <td>1.0</td>\n",
       "      <td>0.50</td>\n",
       "      <td>1.0</td>\n",
       "      <td>236</td>\n",
       "      <td>237</td>\n",
       "      <td>1</td>\n",
       "      <td>12.12</td>\n",
       "    </tr>\n",
       "    <tr>\n",
       "      <th>2</th>\n",
       "      <td>2025-01-01 00:44:04</td>\n",
       "      <td>2025-01-01 00:46:01</td>\n",
       "      <td>1.0</td>\n",
       "      <td>0.60</td>\n",
       "      <td>1.0</td>\n",
       "      <td>141</td>\n",
       "      <td>141</td>\n",
       "      <td>1</td>\n",
       "      <td>12.10</td>\n",
       "    </tr>\n",
       "    <tr>\n",
       "      <th>3</th>\n",
       "      <td>2025-01-01 00:14:27</td>\n",
       "      <td>2025-01-01 00:20:01</td>\n",
       "      <td>3.0</td>\n",
       "      <td>0.52</td>\n",
       "      <td>1.0</td>\n",
       "      <td>244</td>\n",
       "      <td>244</td>\n",
       "      <td>2</td>\n",
       "      <td>9.70</td>\n",
       "    </tr>\n",
       "    <tr>\n",
       "      <th>4</th>\n",
       "      <td>2025-01-01 00:21:34</td>\n",
       "      <td>2025-01-01 00:25:06</td>\n",
       "      <td>3.0</td>\n",
       "      <td>0.66</td>\n",
       "      <td>1.0</td>\n",
       "      <td>244</td>\n",
       "      <td>116</td>\n",
       "      <td>2</td>\n",
       "      <td>8.30</td>\n",
       "    </tr>\n",
       "  </tbody>\n",
       "</table>\n",
       "</div>"
      ],
      "text/plain": [
       "  tpep_pickup_datetime tpep_dropoff_datetime  passenger_count  trip_distance  \\\n",
       "0  2025-01-01 00:18:38   2025-01-01 00:26:59              1.0           1.60   \n",
       "1  2025-01-01 00:32:40   2025-01-01 00:35:13              1.0           0.50   \n",
       "2  2025-01-01 00:44:04   2025-01-01 00:46:01              1.0           0.60   \n",
       "3  2025-01-01 00:14:27   2025-01-01 00:20:01              3.0           0.52   \n",
       "4  2025-01-01 00:21:34   2025-01-01 00:25:06              3.0           0.66   \n",
       "\n",
       "   RatecodeID  PULocationID  DOLocationID  payment_type  total_amount  \n",
       "0         1.0           229           237             1         18.00  \n",
       "1         1.0           236           237             1         12.12  \n",
       "2         1.0           141           141             1         12.10  \n",
       "3         1.0           244           244             2          9.70  \n",
       "4         1.0           244           116             2          8.30  "
      ]
     },
     "execution_count": 129,
     "metadata": {},
     "output_type": "execute_result"
    }
   ],
   "source": [
    "taxi_data.head()"
   ]
  },
  {
   "cell_type": "code",
   "execution_count": 130,
   "id": "855dd019-b268-4db5-a703-9d431731944b",
   "metadata": {},
   "outputs": [
    {
     "data": {
      "text/plain": [
       "array([[<Axes: title={'center': 'tpep_pickup_datetime'}>,\n",
       "        <Axes: title={'center': 'tpep_dropoff_datetime'}>,\n",
       "        <Axes: title={'center': 'passenger_count'}>],\n",
       "       [<Axes: title={'center': 'trip_distance'}>,\n",
       "        <Axes: title={'center': 'RatecodeID'}>,\n",
       "        <Axes: title={'center': 'PULocationID'}>],\n",
       "       [<Axes: title={'center': 'DOLocationID'}>,\n",
       "        <Axes: title={'center': 'payment_type'}>,\n",
       "        <Axes: title={'center': 'total_amount'}>]], dtype=object)"
      ]
     },
     "execution_count": 130,
     "metadata": {},
     "output_type": "execute_result"
    },
    {
     "data": {
      "image/png": "[encoded data removed]",
      "text/plain": [
       "<Figure size 2000x1000 with 9 Axes>"
      ]
     },
     "metadata": {},
     "output_type": "display_data"
    }
   ],
   "source": [
    "taxi_data.hist(figsize=(20, 10), bins=60)"
   ]
  },
  {
   "cell_type": "code",
   "execution_count": 131,
   "id": "104f7350-9af6-441d-94f2-214d64f7afbf",
   "metadata": {},
   "outputs": [
    {
     "data": {
      "text/plain": [
       "RatecodeID\n",
       "1.0     2756472\n",
       "2.0       94420\n",
       "99.0      41963\n",
       "5.0       26501\n",
       "3.0        8622\n",
       "4.0        7092\n",
       "6.0           7\n",
       "Name: count, dtype: int64"
      ]
     },
     "execution_count": 131,
     "metadata": {},
     "output_type": "execute_result"
    }
   ],
   "source": [
    "taxi_data['RatecodeID'].value_counts()"
   ]
  },
  {
   "cell_type": "code",
   "execution_count": 132,
   "id": "6cca9c76-515b-4889-8ee0-1c6a517916b9",
   "metadata": {},
   "outputs": [
    {
     "data": {
      "text/plain": [
       "<Axes: xlabel='index', ylabel='total_amount'>"
      ]
     },
     "execution_count": 132,
     "metadata": {},
     "output_type": "execute_result"
    },
    {
     "data": {
      "image/png": "[encoded data removed]",
      "text/plain": [
       "<Figure size 1000x500 with 1 Axes>"
      ]
     },
     "metadata": {},
     "output_type": "display_data"
    }
   ],
   "source": [
    "taxi_data.reset_index().plot(kind='scatter', y='total_amount', x='index', figsize=(10,5))"
   ]
  },
  {
   "cell_type": "code",
   "execution_count": 133,
   "id": "b5e60a01-29f1-4dd6-a858-d8ffa7425f8b",
   "metadata": {},
   "outputs": [
    {
     "data": {
      "text/plain": [
       "<Axes: xlabel='index', ylabel='total_amount'>"
      ]
     },
     "execution_count": 133,
     "metadata": {},
     "output_type": "execute_result"
    },
    {
     "data": {
      "image/png": "[encoded data removed]",
      "text/plain": [
       "<Figure size 1000x500 with 1 Axes>"
      ]
     },
     "metadata": {},
     "output_type": "display_data"
    }
   ],
   "source": [
    "taxi_data[taxi_data['total_amount']<1000].reset_index().plot(kind='scatter', y='total_amount', x='index', figsize=(10,5))   "
   ]
  },
  {
   "cell_type": "code",
   "execution_count": 134,
   "id": "46437da9-3050-443e-829b-34755b1f7abd",
   "metadata": {},
   "outputs": [
    {
     "name": "stdout",
     "output_type": "stream",
     "text": [
      "(63037, 9)\n"
     ]
    },
    {
     "data": {
      "text/plain": [
       "<Axes: xlabel='index', ylabel='total_amount'>"
      ]
     },
     "execution_count": 134,
     "metadata": {},
     "output_type": "execute_result"
    },
    {
     "data": {
      "image/png": "[encoded data removed]",
      "text/plain": [
       "<Figure size 1000x500 with 1 Axes>"
      ]
     },
     "metadata": {},
     "output_type": "display_data"
    }
   ],
   "source": [
    "print(taxi_data[taxi_data['total_amount']<0].shape)\n",
    "taxi_data[taxi_data['total_amount']<0].reset_index().plot(kind='scatter', y='total_amount', x='index', figsize=(10,5))"
   ]
  },
  {
   "cell_type": "code",
   "execution_count": 135,
   "id": "f31d72a7-0e51-46ab-b736-27d23a059d11",
   "metadata": {},
   "outputs": [
    {
     "data": {
      "text/html": [
       "<div>\n",
       "<style scoped>\n",
       "    .dataframe tbody tr th:only-of-type {\n",
       "        vertical-align: middle;\n",
       "    }\n",
       "\n",
       "    .dataframe tbody tr th {\n",
       "        vertical-align: top;\n",
       "    }\n",
       "\n",
       "    .dataframe thead th {\n",
       "        text-align: right;\n",
       "    }\n",
       "</style>\n",
       "<table border=\"1\" class=\"dataframe\">\n",
       "  <thead>\n",
       "    <tr style=\"text-align: right;\">\n",
       "      <th></th>\n",
       "      <th>tpep_pickup_datetime</th>\n",
       "      <th>tpep_dropoff_datetime</th>\n",
       "      <th>passenger_count</th>\n",
       "      <th>trip_distance</th>\n",
       "      <th>RatecodeID</th>\n",
       "      <th>PULocationID</th>\n",
       "      <th>DOLocationID</th>\n",
       "      <th>payment_type</th>\n",
       "      <th>total_amount</th>\n",
       "    </tr>\n",
       "  </thead>\n",
       "  <tbody>\n",
       "    <tr>\n",
       "      <th>17</th>\n",
       "      <td>2025-01-01 00:01:41</td>\n",
       "      <td>2025-01-01 00:07:14</td>\n",
       "      <td>1.0</td>\n",
       "      <td>0.71</td>\n",
       "      <td>1.0</td>\n",
       "      <td>79</td>\n",
       "      <td>107</td>\n",
       "      <td>2</td>\n",
       "      <td>-8.54</td>\n",
       "    </tr>\n",
       "    <tr>\n",
       "      <th>22</th>\n",
       "      <td>2025-01-01 00:55:54</td>\n",
       "      <td>2025-01-01 01:00:38</td>\n",
       "      <td>1.0</td>\n",
       "      <td>0.69</td>\n",
       "      <td>1.0</td>\n",
       "      <td>137</td>\n",
       "      <td>233</td>\n",
       "      <td>4</td>\n",
       "      <td>-11.50</td>\n",
       "    </tr>\n",
       "    <tr>\n",
       "      <th>104</th>\n",
       "      <td>2025-01-01 00:56:12</td>\n",
       "      <td>2025-01-01 01:15:00</td>\n",
       "      <td>1.0</td>\n",
       "      <td>0.97</td>\n",
       "      <td>1.0</td>\n",
       "      <td>161</td>\n",
       "      <td>170</td>\n",
       "      <td>4</td>\n",
       "      <td>-21.30</td>\n",
       "    </tr>\n",
       "    <tr>\n",
       "      <th>149</th>\n",
       "      <td>2025-01-01 00:55:53</td>\n",
       "      <td>2025-01-01 01:06:49</td>\n",
       "      <td>1.0</td>\n",
       "      <td>1.42</td>\n",
       "      <td>1.0</td>\n",
       "      <td>79</td>\n",
       "      <td>45</td>\n",
       "      <td>2</td>\n",
       "      <td>-17.10</td>\n",
       "    </tr>\n",
       "    <tr>\n",
       "      <th>202</th>\n",
       "      <td>2025-01-01 00:29:35</td>\n",
       "      <td>2025-01-01 00:36:02</td>\n",
       "      <td>1.0</td>\n",
       "      <td>0.60</td>\n",
       "      <td>1.0</td>\n",
       "      <td>79</td>\n",
       "      <td>148</td>\n",
       "      <td>4</td>\n",
       "      <td>-12.20</td>\n",
       "    </tr>\n",
       "  </tbody>\n",
       "</table>\n",
       "</div>"
      ],
      "text/plain": [
       "    tpep_pickup_datetime tpep_dropoff_datetime  passenger_count  \\\n",
       "17   2025-01-01 00:01:41   2025-01-01 00:07:14              1.0   \n",
       "22   2025-01-01 00:55:54   2025-01-01 01:00:38              1.0   \n",
       "104  2025-01-01 00:56:12   2025-01-01 01:15:00              1.0   \n",
       "149  2025-01-01 00:55:53   2025-01-01 01:06:49              1.0   \n",
       "202  2025-01-01 00:29:35   2025-01-01 00:36:02              1.0   \n",
       "\n",
       "     trip_distance  RatecodeID  PULocationID  DOLocationID  payment_type  \\\n",
       "17            0.71         1.0            79           107             2   \n",
       "22            0.69         1.0           137           233             4   \n",
       "104           0.97         1.0           161           170             4   \n",
       "149           1.42         1.0            79            45             2   \n",
       "202           0.60         1.0            79           148             4   \n",
       "\n",
       "     total_amount  \n",
       "17          -8.54  \n",
       "22         -11.50  \n",
       "104        -21.30  \n",
       "149        -17.10  \n",
       "202        -12.20  "
      ]
     },
     "execution_count": 135,
     "metadata": {},
     "output_type": "execute_result"
    }
   ],
   "source": [
    "taxi_data[taxi_data['total_amount']<0].head()"
   ]
  },
  {
   "cell_type": "code",
   "execution_count": 136,
   "id": "b326c732-7f56-4799-9825-7ae1444ce3b1",
   "metadata": {},
   "outputs": [
    {
     "data": {
      "text/plain": [
       "payment_type\n",
       "4    37410\n",
       "2    14111\n",
       "3     8080\n",
       "0     3421\n",
       "1       15\n",
       "Name: count, dtype: int64"
      ]
     },
     "execution_count": 136,
     "metadata": {},
     "output_type": "execute_result"
    }
   ],
   "source": [
    "taxi_data[taxi_data['total_amount']<0]['payment_type'].value_counts()"
   ]
  },
  {
   "cell_type": "code",
   "execution_count": 137,
   "id": "a9dfce0f-7337-41ff-ab80-207f994d0857",
   "metadata": {},
   "outputs": [
    {
     "data": {
      "text/plain": [
       "<Axes: >"
      ]
     },
     "execution_count": 137,
     "metadata": {},
     "output_type": "execute_result"
    },
    {
     "data": {
      "image/png": "[encoded data removed]",
      "text/plain": [
       "<Figure size 1000x500 with 1 Axes>"
      ]
     },
     "metadata": {},
     "output_type": "display_data"
    }
   ],
   "source": [
    "taxi_data[taxi_data['total_amount']<0]['trip_distance'].hist(bins=60, figsize=(10,5))"
   ]
  },
  {
   "cell_type": "code",
   "execution_count": 138,
   "id": "11379e8f-22ff-4300-9004-6f228956b758",
   "metadata": {},
   "outputs": [
    {
     "name": "stdout",
     "output_type": "stream",
     "text": [
      "(559, 9)\n"
     ]
    },
    {
     "data": {
      "text/html": [
       "<div>\n",
       "<style scoped>\n",
       "    .dataframe tbody tr th:only-of-type {\n",
       "        vertical-align: middle;\n",
       "    }\n",
       "\n",
       "    .dataframe tbody tr th {\n",
       "        vertical-align: top;\n",
       "    }\n",
       "\n",
       "    .dataframe thead th {\n",
       "        text-align: right;\n",
       "    }\n",
       "</style>\n",
       "<table border=\"1\" class=\"dataframe\">\n",
       "  <thead>\n",
       "    <tr style=\"text-align: right;\">\n",
       "      <th></th>\n",
       "      <th>tpep_pickup_datetime</th>\n",
       "      <th>tpep_dropoff_datetime</th>\n",
       "      <th>passenger_count</th>\n",
       "      <th>trip_distance</th>\n",
       "      <th>RatecodeID</th>\n",
       "      <th>PULocationID</th>\n",
       "      <th>DOLocationID</th>\n",
       "      <th>payment_type</th>\n",
       "      <th>total_amount</th>\n",
       "    </tr>\n",
       "  </thead>\n",
       "  <tbody>\n",
       "    <tr>\n",
       "      <th>10261</th>\n",
       "      <td>2025-01-01 01:30:13</td>\n",
       "      <td>2025-01-01 01:30:31</td>\n",
       "      <td>1.0</td>\n",
       "      <td>0.00</td>\n",
       "      <td>1.0</td>\n",
       "      <td>226</td>\n",
       "      <td>226</td>\n",
       "      <td>2</td>\n",
       "      <td>0.0</td>\n",
       "    </tr>\n",
       "    <tr>\n",
       "      <th>18189</th>\n",
       "      <td>2025-01-01 03:57:21</td>\n",
       "      <td>2025-01-01 04:02:26</td>\n",
       "      <td>1.0</td>\n",
       "      <td>0.40</td>\n",
       "      <td>1.0</td>\n",
       "      <td>158</td>\n",
       "      <td>125</td>\n",
       "      <td>3</td>\n",
       "      <td>0.0</td>\n",
       "    </tr>\n",
       "    <tr>\n",
       "      <th>19155</th>\n",
       "      <td>2025-01-01 03:27:25</td>\n",
       "      <td>2025-01-01 03:43:43</td>\n",
       "      <td>1.0</td>\n",
       "      <td>3.50</td>\n",
       "      <td>1.0</td>\n",
       "      <td>144</td>\n",
       "      <td>163</td>\n",
       "      <td>4</td>\n",
       "      <td>0.0</td>\n",
       "    </tr>\n",
       "    <tr>\n",
       "      <th>21300</th>\n",
       "      <td>2025-01-01 04:03:25</td>\n",
       "      <td>2025-01-01 04:11:42</td>\n",
       "      <td>2.0</td>\n",
       "      <td>4.69</td>\n",
       "      <td>1.0</td>\n",
       "      <td>255</td>\n",
       "      <td>97</td>\n",
       "      <td>2</td>\n",
       "      <td>0.0</td>\n",
       "    </tr>\n",
       "    <tr>\n",
       "      <th>21920</th>\n",
       "      <td>2025-01-01 04:24:55</td>\n",
       "      <td>2025-01-01 04:29:57</td>\n",
       "      <td>4.0</td>\n",
       "      <td>1.72</td>\n",
       "      <td>1.0</td>\n",
       "      <td>7</td>\n",
       "      <td>7</td>\n",
       "      <td>2</td>\n",
       "      <td>0.0</td>\n",
       "    </tr>\n",
       "  </tbody>\n",
       "</table>\n",
       "</div>"
      ],
      "text/plain": [
       "      tpep_pickup_datetime tpep_dropoff_datetime  passenger_count  \\\n",
       "10261  2025-01-01 01:30:13   2025-01-01 01:30:31              1.0   \n",
       "18189  2025-01-01 03:57:21   2025-01-01 04:02:26              1.0   \n",
       "19155  2025-01-01 03:27:25   2025-01-01 03:43:43              1.0   \n",
       "21300  2025-01-01 04:03:25   2025-01-01 04:11:42              2.0   \n",
       "21920  2025-01-01 04:24:55   2025-01-01 04:29:57              4.0   \n",
       "\n",
       "       trip_distance  RatecodeID  PULocationID  DOLocationID  payment_type  \\\n",
       "10261           0.00         1.0           226           226             2   \n",
       "18189           0.40         1.0           158           125             3   \n",
       "19155           3.50         1.0           144           163             4   \n",
       "21300           4.69         1.0           255            97             2   \n",
       "21920           1.72         1.0             7             7             2   \n",
       "\n",
       "       total_amount  \n",
       "10261           0.0  \n",
       "18189           0.0  \n",
       "19155           0.0  \n",
       "21300           0.0  \n",
       "21920           0.0  "
      ]
     },
     "execution_count": 138,
     "metadata": {},
     "output_type": "execute_result"
    }
   ],
   "source": [
    "print(taxi_data[taxi_data['total_amount']==0].shape)\n",
    "taxi_data[taxi_data['total_amount']==0].head()"
   ]
  },
  {
   "cell_type": "code",
   "execution_count": 139,
   "id": "0b2c8c08-8a2c-4e1b-9260-410595d9a533",
   "metadata": {},
   "outputs": [
    {
     "data": {
      "text/plain": [
       "payment_type\n",
       "4    238\n",
       "3    155\n",
       "1     78\n",
       "0     47\n",
       "2     40\n",
       "5      1\n",
       "Name: count, dtype: int64"
      ]
     },
     "execution_count": 139,
     "metadata": {},
     "output_type": "execute_result"
    }
   ],
   "source": [
    "taxi_data[taxi_data['total_amount']==0]['payment_type'].value_counts()"
   ]
  },
  {
   "cell_type": "code",
   "execution_count": 140,
   "id": "ab8ade91-fade-4d51-96ca-5930df3fd86a",
   "metadata": {},
   "outputs": [
    {
     "data": {
      "text/plain": [
       "<Axes: >"
      ]
     },
     "execution_count": 140,
     "metadata": {},
     "output_type": "execute_result"
    },
    {
     "data": {
      "image/png": "[encoded data removed]",
      "text/plain": [
       "<Figure size 1000x500 with 1 Axes>"
      ]
     },
     "metadata": {},
     "output_type": "display_data"
    }
   ],
   "source": [
    "taxi_data[taxi_data['total_amount']==0]['trip_distance'].hist(bins=60, figsize=(10,5))"
   ]
  },
  {
   "cell_type": "code",
   "execution_count": 141,
   "id": "6d7e3620-25c5-4435-ba10-bd5e7791034c",
   "metadata": {},
   "outputs": [
    {
     "data": {
      "text/plain": [
       "trip_distance\n",
       "0.00     262\n",
       "0.10      19\n",
       "0.50      17\n",
       "0.40      15\n",
       "0.30      14\n",
       "        ... \n",
       "1.46       1\n",
       "6.60       1\n",
       "1.72       1\n",
       "1.45       1\n",
       "14.68      1\n",
       "Name: count, Length: 112, dtype: int64"
      ]
     },
     "execution_count": 141,
     "metadata": {},
     "output_type": "execute_result"
    }
   ],
   "source": [
    "taxi_data[taxi_data['total_amount']==0]['trip_distance'].value_counts()"
   ]
  },
  {
   "cell_type": "code",
   "execution_count": 142,
   "id": "e391d78d-2259-4289-904a-0a6f78dd7462",
   "metadata": {},
   "outputs": [
    {
     "data": {
      "text/plain": [
       "<Axes: xlabel='index', ylabel='total_amount'>"
      ]
     },
     "execution_count": 142,
     "metadata": {},
     "output_type": "execute_result"
    },
    {
     "data": {
      "image/png": "[encoded data removed]",
      "text/plain": [
       "<Figure size 1000x500 with 1 Axes>"
      ]
     },
     "metadata": {},
     "output_type": "display_data"
    }
   ],
   "source": [
    "taxi_data.reset_index().plot(kind='scatter', y='total_amount', x='index', figsize=(10,5))"
   ]
  },
  {
   "cell_type": "code",
   "execution_count": 143,
   "id": "0b048994-b6e4-45fa-870e-eac77a039168",
   "metadata": {},
   "outputs": [
    {
     "data": {
      "text/plain": [
       "(945, 9)"
      ]
     },
     "execution_count": 143,
     "metadata": {},
     "output_type": "execute_result"
    }
   ],
   "source": [
    "taxi_data[taxi_data['total_amount']>250].shape"
   ]
  },
  {
   "cell_type": "code",
   "execution_count": 144,
   "id": "ed8a177b-ef88-44a8-a4c6-9d39326d0c02",
   "metadata": {},
   "outputs": [
    {
     "data": {
      "text/plain": [
       "np.float64(25.61129169728817)"
      ]
     },
     "execution_count": 144,
     "metadata": {},
     "output_type": "execute_result"
    }
   ],
   "source": [
    "taxi_data['total_amount'].mean()"
   ]
  },
  {
   "cell_type": "markdown",
   "id": "3010c3b0-f008-4853-a2e2-f7eb7ccfbba1",
   "metadata": {},
   "source": [
    "## 3. Data Cleaning <a id='data_cleaning'></a>\n",
    "[Back to top](#structure_of_project)"
   ]
  },
  {
   "cell_type": "code",
   "execution_count": 145,
   "id": "2841baa1-1a0d-4404-bd2b-938ddb5a6666",
   "metadata": {},
   "outputs": [],
   "source": [
    "taxi_data_filtered = taxi_data.loc[(taxi_data['total_amount'] >= 0) & (taxi_data['total_amount'] < 250)].copy()"
   ]
  },
  {
   "cell_type": "code",
   "execution_count": 146,
   "id": "c6eef42b-a269-40b1-9ca9-9f43b43eaf78",
   "metadata": {},
   "outputs": [
    {
     "name": "stdout",
     "output_type": "stream",
     "text": [
      "(3475226, 9)\n"
     ]
    },
    {
     "data": {
      "text/plain": [
       "(3411243, 9)"
      ]
     },
     "execution_count": 146,
     "metadata": {},
     "output_type": "execute_result"
    }
   ],
   "source": [
    "print(taxi_data.shape)\n",
    "taxi_data_filtered.shape"
   ]
  },
  {
   "cell_type": "code",
   "execution_count": 147,
   "id": "716697e5-78b9-41a5-b2de-4736b1b9165e",
   "metadata": {},
   "outputs": [
    {
     "data": {
      "text/plain": [
       "tpep_pickup_datetime          0\n",
       "tpep_dropoff_datetime         0\n",
       "passenger_count          536725\n",
       "trip_distance                 0\n",
       "RatecodeID               536725\n",
       "PULocationID                  0\n",
       "DOLocationID                  0\n",
       "payment_type                  0\n",
       "total_amount                  0\n",
       "dtype: int64"
      ]
     },
     "execution_count": 147,
     "metadata": {},
     "output_type": "execute_result"
    }
   ],
   "source": [
    "taxi_data_filtered.isna().sum()"
   ]
  },
  {
   "cell_type": "code",
   "execution_count": 148,
   "id": "cb5f5ab5-445a-4241-82a2-62231d367afa",
   "metadata": {},
   "outputs": [
    {
     "name": "stdout",
     "output_type": "stream",
     "text": [
      "passenger_count\n",
      "1.0    2277050\n",
      "NaN     536725\n",
      "2.0     397594\n",
      "3.0      89015\n",
      "4.0      56519\n",
      "0.0      24644\n",
      "5.0      17714\n",
      "6.0      11964\n",
      "8.0         11\n",
      "7.0          4\n",
      "9.0          3\n",
      "Name: count, dtype: int64\n"
     ]
    }
   ],
   "source": [
    "print(taxi_data_filtered['passenger_count'].value_counts(dropna=False))"
   ]
  },
  {
   "cell_type": "code",
   "execution_count": 149,
   "id": "740644e7-a913-4854-b65b-6bd6fcdd7e43",
   "metadata": {},
   "outputs": [
    {
     "data": {
      "text/plain": [
       "passenger_count\n",
       "NaN    536725\n",
       "Name: count, dtype: int64"
      ]
     },
     "execution_count": 149,
     "metadata": {},
     "output_type": "execute_result"
    }
   ],
   "source": [
    "taxi_data_filtered[taxi_data_filtered['RatecodeID'].isnull()]['passenger_count'].value_counts(dropna=False)"
   ]
  },
  {
   "cell_type": "code",
   "execution_count": 150,
   "id": "bf195182-ffec-4d63-aaac-d7bb38fbc7ac",
   "metadata": {},
   "outputs": [
    {
     "name": "stdout",
     "output_type": "stream",
     "text": [
      "[ 1.  3.  2.  0.  4.  9.  6.  5.  8.  7. nan]\n",
      "[ 1.  5. 99.  2.  4.  3.  6. nan]\n"
     ]
    }
   ],
   "source": [
    "print(taxi_data_filtered['passenger_count'].unique())\n",
    "print(taxi_data_filtered['RatecodeID'].unique())"
   ]
  },
  {
   "cell_type": "code",
   "execution_count": 151,
   "id": "22f5ec4c-6908-43e2-86d1-a05f7fc4a79e",
   "metadata": {},
   "outputs": [
    {
     "data": {
      "text/plain": [
       "(536725, 9)"
      ]
     },
     "execution_count": 151,
     "metadata": {},
     "output_type": "execute_result"
    }
   ],
   "source": [
    "taxi_data_filtered[taxi_data_filtered['RatecodeID'].isna() & taxi_data_filtered['passenger_count'].isna()].shape"
   ]
  },
  {
   "cell_type": "code",
   "execution_count": 152,
   "id": "cd10bc4b-93a9-46bf-8aef-a714e6807978",
   "metadata": {},
   "outputs": [],
   "source": [
    "taxi_data_filtered['RatecodeID'] = taxi_data_filtered['RatecodeID'].fillna(99)\n",
    "taxi_data_filtered['passenger_count'] = taxi_data_filtered['passenger_count'].fillna(0.0)"
   ]
  },
  {
   "cell_type": "code",
   "execution_count": 153,
   "id": "31a13e01-16a9-4ef5-ad70-57217833cb1d",
   "metadata": {},
   "outputs": [
    {
     "name": "stdout",
     "output_type": "stream",
     "text": [
      "RatecodeID\n",
      "1.0     2703192\n",
      "99.0     578660\n",
      "2.0       90776\n",
      "5.0       24547\n",
      "3.0        7908\n",
      "4.0        6153\n",
      "6.0           7\n",
      "Name: count, dtype: int64\n",
      "passenger_count\n",
      "1.0    2277050\n",
      "0.0     561369\n",
      "2.0     397594\n",
      "3.0      89015\n",
      "4.0      56519\n",
      "5.0      17714\n",
      "6.0      11964\n",
      "8.0         11\n",
      "7.0          4\n",
      "9.0          3\n",
      "Name: count, dtype: int64\n"
     ]
    }
   ],
   "source": [
    "print(taxi_data_filtered['RatecodeID'].value_counts(dropna=False))\n",
    "print(taxi_data_filtered['passenger_count'].value_counts(dropna=False))"
   ]
  },
  {
   "cell_type": "code",
   "execution_count": 154,
   "id": "74ee914f-951e-41e3-b468-ed5b5fc193e7",
   "metadata": {},
   "outputs": [
    {
     "name": "stdout",
     "output_type": "stream",
     "text": [
      "0\n",
      "0\n"
     ]
    }
   ],
   "source": [
    "print(taxi_data_filtered['RatecodeID'].isna().sum())\n",
    "print(taxi_data_filtered['passenger_count'].isna().sum())"
   ]
  },
  {
   "cell_type": "code",
   "execution_count": 155,
   "id": "152ce3bc-5da4-4a36-b6ba-4418419bf292",
   "metadata": {},
   "outputs": [
    {
     "data": {
      "text/plain": [
       "tpep_pickup_datetime     0\n",
       "tpep_dropoff_datetime    0\n",
       "passenger_count          0\n",
       "trip_distance            0\n",
       "RatecodeID               0\n",
       "PULocationID             0\n",
       "DOLocationID             0\n",
       "payment_type             0\n",
       "total_amount             0\n",
       "dtype: int64"
      ]
     },
     "execution_count": 155,
     "metadata": {},
     "output_type": "execute_result"
    }
   ],
   "source": [
    "taxi_data_filtered.isna().sum()"
   ]
  },
  {
   "cell_type": "markdown",
   "id": "dfda3a8a-49ba-47cf-b7d4-9a94e75e5e8c",
   "metadata": {},
   "source": [
    "## 4. Data Preparation <a id='data_preparation'></a>\n",
    "[Back to top](#structure_of_project)"
   ]
  },
  {
   "cell_type": "code",
   "execution_count": 156,
   "id": "e603583b-6052-4dc8-9fc5-02b38e4387f9",
   "metadata": {},
   "outputs": [],
   "source": [
    "taxi_data_prepared = taxi_data_filtered.copy()"
   ]
  },
  {
   "cell_type": "code",
   "execution_count": 157,
   "id": "67c8d5f6-a352-4596-a7e1-02cc19f77b79",
   "metadata": {},
   "outputs": [
    {
     "data": {
      "text/plain": [
       "tpep_pickup_datetime     datetime64[us]\n",
       "tpep_dropoff_datetime    datetime64[us]\n",
       "passenger_count                 float64\n",
       "trip_distance                   float64\n",
       "RatecodeID                      float64\n",
       "PULocationID                      int32\n",
       "DOLocationID                      int32\n",
       "payment_type                      int64\n",
       "total_amount                    float64\n",
       "dtype: object"
      ]
     },
     "execution_count": 157,
     "metadata": {},
     "output_type": "execute_result"
    }
   ],
   "source": [
    "taxi_data_prepared.dtypes"
   ]
  },
  {
   "cell_type": "code",
   "execution_count": 195,
   "id": "e60dd61b-0d3b-48a4-a01f-6b4c3b459a57",
   "metadata": {},
   "outputs": [],
   "source": [
    "taxi_data_prepared['passenger_count'] = taxi_data_prepared['passenger_count'].astype(int)\n",
    "taxi_data_prepared.loc[:, 'RatecodeID'] = taxi_data_prepared.loc[:, 'RatecodeID'].astype(str)\n",
    "taxi_data_prepared.loc[:, 'PULocationID'] = taxi_data_prepared.loc[:, 'PULocationID'].astype(str)\n",
    "taxi_data_prepared.loc[:, 'DOLocationID'] = taxi_data_prepared.loc[:, 'DOLocationID'].astype(str)\n",
    "taxi_data_prepared.loc[:, 'payment_type'] = taxi_data_prepared.loc[:, 'payment_type'].astype(str)"
   ]
  },
  {
   "cell_type": "code",
   "execution_count": 159,
   "id": "7db60e83-3d1f-4da9-8f70-51f63e1341bb",
   "metadata": {},
   "outputs": [
    {
     "data": {
      "text/plain": [
       "tpep_pickup_datetime     datetime64[us]\n",
       "tpep_dropoff_datetime    datetime64[us]\n",
       "passenger_count                   int64\n",
       "trip_distance                   float64\n",
       "RatecodeID                       object\n",
       "PULocationID                     object\n",
       "DOLocationID                     object\n",
       "payment_type                     object\n",
       "total_amount                    float64\n",
       "dtype: object"
      ]
     },
     "execution_count": 159,
     "metadata": {},
     "output_type": "execute_result"
    }
   ],
   "source": [
    "taxi_data_prepared.dtypes"
   ]
  },
  {
   "cell_type": "code",
   "execution_count": 160,
   "id": "a4791fc7-8fa6-4f2f-82a9-3e0c12f0c187",
   "metadata": {},
   "outputs": [
    {
     "data": {
      "text/html": [
       "<div>\n",
       "<style scoped>\n",
       "    .dataframe tbody tr th:only-of-type {\n",
       "        vertical-align: middle;\n",
       "    }\n",
       "\n",
       "    .dataframe tbody tr th {\n",
       "        vertical-align: top;\n",
       "    }\n",
       "\n",
       "    .dataframe thead th {\n",
       "        text-align: right;\n",
       "    }\n",
       "</style>\n",
       "<table border=\"1\" class=\"dataframe\">\n",
       "  <thead>\n",
       "    <tr style=\"text-align: right;\">\n",
       "      <th></th>\n",
       "      <th>tpep_pickup_datetime</th>\n",
       "      <th>tpep_dropoff_datetime</th>\n",
       "      <th>passenger_count</th>\n",
       "      <th>trip_distance</th>\n",
       "      <th>RatecodeID</th>\n",
       "      <th>PULocationID</th>\n",
       "      <th>DOLocationID</th>\n",
       "      <th>payment_type</th>\n",
       "      <th>total_amount</th>\n",
       "    </tr>\n",
       "  </thead>\n",
       "  <tbody>\n",
       "    <tr>\n",
       "      <th>0</th>\n",
       "      <td>2025-01-01 00:18:38</td>\n",
       "      <td>2025-01-01 00:26:59</td>\n",
       "      <td>1</td>\n",
       "      <td>1.60</td>\n",
       "      <td>1.0</td>\n",
       "      <td>229</td>\n",
       "      <td>237</td>\n",
       "      <td>1</td>\n",
       "      <td>18.00</td>\n",
       "    </tr>\n",
       "    <tr>\n",
       "      <th>1</th>\n",
       "      <td>2025-01-01 00:32:40</td>\n",
       "      <td>2025-01-01 00:35:13</td>\n",
       "      <td>1</td>\n",
       "      <td>0.50</td>\n",
       "      <td>1.0</td>\n",
       "      <td>236</td>\n",
       "      <td>237</td>\n",
       "      <td>1</td>\n",
       "      <td>12.12</td>\n",
       "    </tr>\n",
       "    <tr>\n",
       "      <th>2</th>\n",
       "      <td>2025-01-01 00:44:04</td>\n",
       "      <td>2025-01-01 00:46:01</td>\n",
       "      <td>1</td>\n",
       "      <td>0.60</td>\n",
       "      <td>1.0</td>\n",
       "      <td>141</td>\n",
       "      <td>141</td>\n",
       "      <td>1</td>\n",
       "      <td>12.10</td>\n",
       "    </tr>\n",
       "    <tr>\n",
       "      <th>3</th>\n",
       "      <td>2025-01-01 00:14:27</td>\n",
       "      <td>2025-01-01 00:20:01</td>\n",
       "      <td>3</td>\n",
       "      <td>0.52</td>\n",
       "      <td>1.0</td>\n",
       "      <td>244</td>\n",
       "      <td>244</td>\n",
       "      <td>2</td>\n",
       "      <td>9.70</td>\n",
       "    </tr>\n",
       "    <tr>\n",
       "      <th>4</th>\n",
       "      <td>2025-01-01 00:21:34</td>\n",
       "      <td>2025-01-01 00:25:06</td>\n",
       "      <td>3</td>\n",
       "      <td>0.66</td>\n",
       "      <td>1.0</td>\n",
       "      <td>244</td>\n",
       "      <td>116</td>\n",
       "      <td>2</td>\n",
       "      <td>8.30</td>\n",
       "    </tr>\n",
       "  </tbody>\n",
       "</table>\n",
       "</div>"
      ],
      "text/plain": [
       "  tpep_pickup_datetime tpep_dropoff_datetime  passenger_count  trip_distance  \\\n",
       "0  2025-01-01 00:18:38   2025-01-01 00:26:59                1           1.60   \n",
       "1  2025-01-01 00:32:40   2025-01-01 00:35:13                1           0.50   \n",
       "2  2025-01-01 00:44:04   2025-01-01 00:46:01                1           0.60   \n",
       "3  2025-01-01 00:14:27   2025-01-01 00:20:01                3           0.52   \n",
       "4  2025-01-01 00:21:34   2025-01-01 00:25:06                3           0.66   \n",
       "\n",
       "  RatecodeID PULocationID DOLocationID payment_type  total_amount  \n",
       "0        1.0          229          237            1         18.00  \n",
       "1        1.0          236          237            1         12.12  \n",
       "2        1.0          141          141            1         12.10  \n",
       "3        1.0          244          244            2          9.70  \n",
       "4        1.0          244          116            2          8.30  "
      ]
     },
     "execution_count": 160,
     "metadata": {},
     "output_type": "execute_result"
    }
   ],
   "source": [
    "taxi_data_prepared.head()"
   ]
  },
  {
   "cell_type": "code",
   "execution_count": 161,
   "id": "de74436c-2a2c-4ad4-8dc5-d230305c4ef6",
   "metadata": {},
   "outputs": [],
   "source": [
    "taxi_data_prepared['transaction_date'] = pd.to_datetime(taxi_data_prepared['tpep_pickup_datetime'].dt.date)\n",
    "\n",
    "taxi_data_prepared['transaction_year'] = taxi_data_prepared['tpep_pickup_datetime'].dt.year\n",
    "taxi_data_prepared['transaction_month'] = taxi_data_prepared['tpep_pickup_datetime'].dt.month\n",
    "taxi_data_prepared['transaction_day'] = taxi_data_prepared['tpep_pickup_datetime'].dt.day\n",
    "taxi_data_prepared['transaction_hour'] = taxi_data_prepared['tpep_pickup_datetime'].dt.hour"
   ]
  },
  {
   "cell_type": "code",
   "execution_count": 162,
   "id": "605bad1e-e48c-4a64-bf7e-b9f080f8ed0c",
   "metadata": {},
   "outputs": [
    {
     "data": {
      "text/html": [
       "<div>\n",
       "<style scoped>\n",
       "    .dataframe tbody tr th:only-of-type {\n",
       "        vertical-align: middle;\n",
       "    }\n",
       "\n",
       "    .dataframe tbody tr th {\n",
       "        vertical-align: top;\n",
       "    }\n",
       "\n",
       "    .dataframe thead th {\n",
       "        text-align: right;\n",
       "    }\n",
       "</style>\n",
       "<table border=\"1\" class=\"dataframe\">\n",
       "  <thead>\n",
       "    <tr style=\"text-align: right;\">\n",
       "      <th></th>\n",
       "      <th>tpep_pickup_datetime</th>\n",
       "      <th>tpep_dropoff_datetime</th>\n",
       "      <th>passenger_count</th>\n",
       "      <th>trip_distance</th>\n",
       "      <th>RatecodeID</th>\n",
       "      <th>PULocationID</th>\n",
       "      <th>DOLocationID</th>\n",
       "      <th>payment_type</th>\n",
       "      <th>total_amount</th>\n",
       "      <th>transaction_date</th>\n",
       "      <th>transaction_year</th>\n",
       "      <th>transaction_month</th>\n",
       "      <th>transaction_day</th>\n",
       "      <th>transaction_hour</th>\n",
       "    </tr>\n",
       "  </thead>\n",
       "  <tbody>\n",
       "    <tr>\n",
       "      <th>0</th>\n",
       "      <td>2025-01-01 00:18:38</td>\n",
       "      <td>2025-01-01 00:26:59</td>\n",
       "      <td>1</td>\n",
       "      <td>1.60</td>\n",
       "      <td>1.0</td>\n",
       "      <td>229</td>\n",
       "      <td>237</td>\n",
       "      <td>1</td>\n",
       "      <td>18.00</td>\n",
       "      <td>2025-01-01</td>\n",
       "      <td>2025</td>\n",
       "      <td>1</td>\n",
       "      <td>1</td>\n",
       "      <td>0</td>\n",
       "    </tr>\n",
       "    <tr>\n",
       "      <th>1</th>\n",
       "      <td>2025-01-01 00:32:40</td>\n",
       "      <td>2025-01-01 00:35:13</td>\n",
       "      <td>1</td>\n",
       "      <td>0.50</td>\n",
       "      <td>1.0</td>\n",
       "      <td>236</td>\n",
       "      <td>237</td>\n",
       "      <td>1</td>\n",
       "      <td>12.12</td>\n",
       "      <td>2025-01-01</td>\n",
       "      <td>2025</td>\n",
       "      <td>1</td>\n",
       "      <td>1</td>\n",
       "      <td>0</td>\n",
       "    </tr>\n",
       "    <tr>\n",
       "      <th>2</th>\n",
       "      <td>2025-01-01 00:44:04</td>\n",
       "      <td>2025-01-01 00:46:01</td>\n",
       "      <td>1</td>\n",
       "      <td>0.60</td>\n",
       "      <td>1.0</td>\n",
       "      <td>141</td>\n",
       "      <td>141</td>\n",
       "      <td>1</td>\n",
       "      <td>12.10</td>\n",
       "      <td>2025-01-01</td>\n",
       "      <td>2025</td>\n",
       "      <td>1</td>\n",
       "      <td>1</td>\n",
       "      <td>0</td>\n",
       "    </tr>\n",
       "    <tr>\n",
       "      <th>3</th>\n",
       "      <td>2025-01-01 00:14:27</td>\n",
       "      <td>2025-01-01 00:20:01</td>\n",
       "      <td>3</td>\n",
       "      <td>0.52</td>\n",
       "      <td>1.0</td>\n",
       "      <td>244</td>\n",
       "      <td>244</td>\n",
       "      <td>2</td>\n",
       "      <td>9.70</td>\n",
       "      <td>2025-01-01</td>\n",
       "      <td>2025</td>\n",
       "      <td>1</td>\n",
       "      <td>1</td>\n",
       "      <td>0</td>\n",
       "    </tr>\n",
       "    <tr>\n",
       "      <th>4</th>\n",
       "      <td>2025-01-01 00:21:34</td>\n",
       "      <td>2025-01-01 00:25:06</td>\n",
       "      <td>3</td>\n",
       "      <td>0.66</td>\n",
       "      <td>1.0</td>\n",
       "      <td>244</td>\n",
       "      <td>116</td>\n",
       "      <td>2</td>\n",
       "      <td>8.30</td>\n",
       "      <td>2025-01-01</td>\n",
       "      <td>2025</td>\n",
       "      <td>1</td>\n",
       "      <td>1</td>\n",
       "      <td>0</td>\n",
       "    </tr>\n",
       "  </tbody>\n",
       "</table>\n",
       "</div>"
      ],
      "text/plain": [
       "  tpep_pickup_datetime tpep_dropoff_datetime  passenger_count  trip_distance  \\\n",
       "0  2025-01-01 00:18:38   2025-01-01 00:26:59                1           1.60   \n",
       "1  2025-01-01 00:32:40   2025-01-01 00:35:13                1           0.50   \n",
       "2  2025-01-01 00:44:04   2025-01-01 00:46:01                1           0.60   \n",
       "3  2025-01-01 00:14:27   2025-01-01 00:20:01                3           0.52   \n",
       "4  2025-01-01 00:21:34   2025-01-01 00:25:06                3           0.66   \n",
       "\n",
       "  RatecodeID PULocationID DOLocationID payment_type  total_amount  \\\n",
       "0        1.0          229          237            1         18.00   \n",
       "1        1.0          236          237            1         12.12   \n",
       "2        1.0          141          141            1         12.10   \n",
       "3        1.0          244          244            2          9.70   \n",
       "4        1.0          244          116            2          8.30   \n",
       "\n",
       "  transaction_date  transaction_year  transaction_month  transaction_day  \\\n",
       "0       2025-01-01              2025                  1                1   \n",
       "1       2025-01-01              2025                  1                1   \n",
       "2       2025-01-01              2025                  1                1   \n",
       "3       2025-01-01              2025                  1                1   \n",
       "4       2025-01-01              2025                  1                1   \n",
       "\n",
       "   transaction_hour  \n",
       "0                 0  \n",
       "1                 0  \n",
       "2                 0  \n",
       "3                 0  \n",
       "4                 0  "
      ]
     },
     "execution_count": 162,
     "metadata": {},
     "output_type": "execute_result"
    }
   ],
   "source": [
    "taxi_data_prepared.head()"
   ]
  },
  {
   "cell_type": "code",
   "execution_count": 163,
   "id": "5da0d606-6e78-412f-9ec7-8bd535a67459",
   "metadata": {},
   "outputs": [
    {
     "data": {
      "text/plain": [
       "array([[<Axes: title={'center': 'tpep_pickup_datetime'}>,\n",
       "        <Axes: title={'center': 'tpep_dropoff_datetime'}>,\n",
       "        <Axes: title={'center': 'passenger_count'}>],\n",
       "       [<Axes: title={'center': 'trip_distance'}>,\n",
       "        <Axes: title={'center': 'total_amount'}>,\n",
       "        <Axes: title={'center': 'transaction_date'}>],\n",
       "       [<Axes: title={'center': 'transaction_year'}>,\n",
       "        <Axes: title={'center': 'transaction_month'}>,\n",
       "        <Axes: title={'center': 'transaction_day'}>],\n",
       "       [<Axes: title={'center': 'transaction_hour'}>, <Axes: >, <Axes: >]],\n",
       "      dtype=object)"
      ]
     },
     "execution_count": 163,
     "metadata": {},
     "output_type": "execute_result"
    },
    {
     "data": {
      "image/png": "[encoded data removed]",
      "text/plain": [
       "<Figure size 2000x1000 with 12 Axes>"
      ]
     },
     "metadata": {},
     "output_type": "display_data"
    }
   ],
   "source": [
    "taxi_data_prepared.hist(figsize=(20,10), bins=60)"
   ]
  },
  {
   "cell_type": "code",
   "execution_count": 164,
   "id": "32d7708c-76f5-46a1-a252-3814b3848e22",
   "metadata": {},
   "outputs": [
    {
     "data": {
      "text/plain": [
       "np.int64(21)"
      ]
     },
     "execution_count": 164,
     "metadata": {},
     "output_type": "execute_result"
    }
   ],
   "source": [
    "taxi_data_prepared[taxi_data_prepared['transaction_year']<2025].value_counts().sum()"
   ]
  },
  {
   "cell_type": "code",
   "execution_count": 165,
   "id": "70f33410-43b1-46fa-ab88-0361ab39cdf2",
   "metadata": {},
   "outputs": [],
   "source": [
    "taxi_data_prepared = taxi_data_prepared[taxi_data_prepared['transaction_year']==2025]\n",
    "taxi_data_prepared = taxi_data_prepared[taxi_data_prepared['transaction_month']==1]"
   ]
  },
  {
   "cell_type": "code",
   "execution_count": 166,
   "id": "24f1d960-434e-413b-9d9a-8c24f57a1e05",
   "metadata": {},
   "outputs": [],
   "source": [
    "categorical_columns = ['PULocationID', 'transaction_date', 'transaction_month', 'transaction_day', 'transaction_hour']\n",
    "numerical_columns = ['trip_distance', 'total_amount']\n",
    "all_needed_columns = categorical_columns + numerical_columns"
   ]
  },
  {
   "cell_type": "code",
   "execution_count": 167,
   "id": "d8bcd9fb-933d-4477-b470-1da13f7c6fcc",
   "metadata": {},
   "outputs": [
    {
     "name": "stdout",
     "output_type": "stream",
     "text": [
      "(3411221, 7)\n"
     ]
    },
    {
     "data": {
      "text/html": [
       "<div>\n",
       "<style scoped>\n",
       "    .dataframe tbody tr th:only-of-type {\n",
       "        vertical-align: middle;\n",
       "    }\n",
       "\n",
       "    .dataframe tbody tr th {\n",
       "        vertical-align: top;\n",
       "    }\n",
       "\n",
       "    .dataframe thead th {\n",
       "        text-align: right;\n",
       "    }\n",
       "</style>\n",
       "<table border=\"1\" class=\"dataframe\">\n",
       "  <thead>\n",
       "    <tr style=\"text-align: right;\">\n",
       "      <th></th>\n",
       "      <th>PULocationID</th>\n",
       "      <th>transaction_date</th>\n",
       "      <th>transaction_month</th>\n",
       "      <th>transaction_day</th>\n",
       "      <th>transaction_hour</th>\n",
       "      <th>trip_distance</th>\n",
       "      <th>total_amount</th>\n",
       "    </tr>\n",
       "  </thead>\n",
       "  <tbody>\n",
       "    <tr>\n",
       "      <th>0</th>\n",
       "      <td>229</td>\n",
       "      <td>2025-01-01</td>\n",
       "      <td>1</td>\n",
       "      <td>1</td>\n",
       "      <td>0</td>\n",
       "      <td>1.60</td>\n",
       "      <td>18.00</td>\n",
       "    </tr>\n",
       "    <tr>\n",
       "      <th>1</th>\n",
       "      <td>236</td>\n",
       "      <td>2025-01-01</td>\n",
       "      <td>1</td>\n",
       "      <td>1</td>\n",
       "      <td>0</td>\n",
       "      <td>0.50</td>\n",
       "      <td>12.12</td>\n",
       "    </tr>\n",
       "    <tr>\n",
       "      <th>2</th>\n",
       "      <td>141</td>\n",
       "      <td>2025-01-01</td>\n",
       "      <td>1</td>\n",
       "      <td>1</td>\n",
       "      <td>0</td>\n",
       "      <td>0.60</td>\n",
       "      <td>12.10</td>\n",
       "    </tr>\n",
       "    <tr>\n",
       "      <th>3</th>\n",
       "      <td>244</td>\n",
       "      <td>2025-01-01</td>\n",
       "      <td>1</td>\n",
       "      <td>1</td>\n",
       "      <td>0</td>\n",
       "      <td>0.52</td>\n",
       "      <td>9.70</td>\n",
       "    </tr>\n",
       "    <tr>\n",
       "      <th>4</th>\n",
       "      <td>244</td>\n",
       "      <td>2025-01-01</td>\n",
       "      <td>1</td>\n",
       "      <td>1</td>\n",
       "      <td>0</td>\n",
       "      <td>0.66</td>\n",
       "      <td>8.30</td>\n",
       "    </tr>\n",
       "  </tbody>\n",
       "</table>\n",
       "</div>"
      ],
      "text/plain": [
       "  PULocationID transaction_date  transaction_month  transaction_day  \\\n",
       "0          229       2025-01-01                  1                1   \n",
       "1          236       2025-01-01                  1                1   \n",
       "2          141       2025-01-01                  1                1   \n",
       "3          244       2025-01-01                  1                1   \n",
       "4          244       2025-01-01                  1                1   \n",
       "\n",
       "   transaction_hour  trip_distance  total_amount  \n",
       "0                 0           1.60         18.00  \n",
       "1                 0           0.50         12.12  \n",
       "2                 0           0.60         12.10  \n",
       "3                 0           0.52          9.70  \n",
       "4                 0           0.66          8.30  "
      ]
     },
     "execution_count": 167,
     "metadata": {},
     "output_type": "execute_result"
    }
   ],
   "source": [
    "main_taxi_df = taxi_data_prepared[all_needed_columns]\n",
    "print(main_taxi_df.shape)\n",
    "main_taxi_df.head()"
   ]
  },
  {
   "cell_type": "code",
   "execution_count": 168,
   "id": "17fe312e-d23f-42f1-bbda-fca30055af5d",
   "metadata": {},
   "outputs": [
    {
     "name": "stdout",
     "output_type": "stream",
     "text": [
      "(96626, 8)\n"
     ]
    },
    {
     "data": {
      "text/html": [
       "<div>\n",
       "<style scoped>\n",
       "    .dataframe tbody tr th:only-of-type {\n",
       "        vertical-align: middle;\n",
       "    }\n",
       "\n",
       "    .dataframe tbody tr th {\n",
       "        vertical-align: top;\n",
       "    }\n",
       "\n",
       "    .dataframe thead th {\n",
       "        text-align: right;\n",
       "    }\n",
       "</style>\n",
       "<table border=\"1\" class=\"dataframe\">\n",
       "  <thead>\n",
       "    <tr style=\"text-align: right;\">\n",
       "      <th></th>\n",
       "      <th>PULocationID</th>\n",
       "      <th>transaction_date</th>\n",
       "      <th>transaction_month</th>\n",
       "      <th>transaction_day</th>\n",
       "      <th>transaction_hour</th>\n",
       "      <th>trip_distance</th>\n",
       "      <th>total_amount</th>\n",
       "      <th>count_of_transactions</th>\n",
       "    </tr>\n",
       "  </thead>\n",
       "  <tbody>\n",
       "    <tr>\n",
       "      <th>0</th>\n",
       "      <td>1</td>\n",
       "      <td>2025-01-01</td>\n",
       "      <td>1</td>\n",
       "      <td>1</td>\n",
       "      <td>6</td>\n",
       "      <td>0.100000</td>\n",
       "      <td>115.000</td>\n",
       "      <td>1</td>\n",
       "    </tr>\n",
       "    <tr>\n",
       "      <th>1</th>\n",
       "      <td>1</td>\n",
       "      <td>2025-01-01</td>\n",
       "      <td>1</td>\n",
       "      <td>1</td>\n",
       "      <td>9</td>\n",
       "      <td>0.000000</td>\n",
       "      <td>132.510</td>\n",
       "      <td>4</td>\n",
       "    </tr>\n",
       "    <tr>\n",
       "      <th>2</th>\n",
       "      <td>1</td>\n",
       "      <td>2025-01-01</td>\n",
       "      <td>1</td>\n",
       "      <td>1</td>\n",
       "      <td>12</td>\n",
       "      <td>0.000000</td>\n",
       "      <td>106.200</td>\n",
       "      <td>2</td>\n",
       "    </tr>\n",
       "    <tr>\n",
       "      <th>3</th>\n",
       "      <td>1</td>\n",
       "      <td>2025-01-01</td>\n",
       "      <td>1</td>\n",
       "      <td>1</td>\n",
       "      <td>13</td>\n",
       "      <td>1.333333</td>\n",
       "      <td>56.400</td>\n",
       "      <td>3</td>\n",
       "    </tr>\n",
       "    <tr>\n",
       "      <th>4</th>\n",
       "      <td>1</td>\n",
       "      <td>2025-01-01</td>\n",
       "      <td>1</td>\n",
       "      <td>1</td>\n",
       "      <td>14</td>\n",
       "      <td>2.160000</td>\n",
       "      <td>70.205</td>\n",
       "      <td>2</td>\n",
       "    </tr>\n",
       "  </tbody>\n",
       "</table>\n",
       "</div>"
      ],
      "text/plain": [
       "  PULocationID transaction_date  transaction_month  transaction_day  \\\n",
       "0            1       2025-01-01                  1                1   \n",
       "1            1       2025-01-01                  1                1   \n",
       "2            1       2025-01-01                  1                1   \n",
       "3            1       2025-01-01                  1                1   \n",
       "4            1       2025-01-01                  1                1   \n",
       "\n",
       "   transaction_hour  trip_distance  total_amount  count_of_transactions  \n",
       "0                 6       0.100000       115.000                      1  \n",
       "1                 9       0.000000       132.510                      4  \n",
       "2                12       0.000000       106.200                      2  \n",
       "3                13       1.333333        56.400                      3  \n",
       "4                14       2.160000        70.205                      2  "
      ]
     },
     "execution_count": 168,
     "metadata": {},
     "output_type": "execute_result"
    }
   ],
   "source": [
    "taxi_grouped_by_region = main_taxi_df.groupby(categorical_columns).mean().reset_index()\n",
    "taxi_grouped_by_region['count_of_transactions'] = main_taxi_df.groupby(categorical_columns).count().reset_index()['total_amount']\n",
    "print(taxi_grouped_by_region.shape)\n",
    "taxi_grouped_by_region.head()"
   ]
  },
  {
   "cell_type": "code",
   "execution_count": 169,
   "id": "2501a2c5-b965-44e8-a31f-a2a475dbc0e7",
   "metadata": {},
   "outputs": [
    {
     "data": {
      "text/plain": [
       "<Axes: >"
      ]
     },
     "execution_count": 169,
     "metadata": {},
     "output_type": "execute_result"
    },
    {
     "data": {
      "image/png": "[encoded data removed]",
      "text/plain": [
       "<Figure size 1000x500 with 1 Axes>"
      ]
     },
     "metadata": {},
     "output_type": "display_data"
    }
   ],
   "source": [
    "taxi_grouped_by_region['trip_distance'].hist(bins=100, figsize=(10,5))"
   ]
  },
  {
   "cell_type": "code",
   "execution_count": 170,
   "id": "7f318f2b-6a09-41f1-abd6-64d56672fed2",
   "metadata": {},
   "outputs": [
    {
     "data": {
      "text/plain": [
       "<Axes: >"
      ]
     },
     "execution_count": 170,
     "metadata": {},
     "output_type": "execute_result"
    },
    {
     "data": {
      "image/png": "[encoded data removed]",
      "text/plain": [
       "<Figure size 1000x500 with 1 Axes>"
      ]
     },
     "metadata": {},
     "output_type": "display_data"
    }
   ],
   "source": [
    "taxi_grouped_by_region['total_amount'].hist(bins=100, figsize=(10,5))"
   ]
  },
  {
   "cell_type": "markdown",
   "id": "fad83edf-c347-4630-9a6d-2f8231dd2da5",
   "metadata": {},
   "source": [
    "## 5. Benchmark Model <a id='benchmark_model'></a>\n",
    "[Back to top](#structure_of_project)"
   ]
  },
  {
   "cell_type": "code",
   "execution_count": 171,
   "id": "f5aaa87f-9336-46fd-8f8a-f91a54536944",
   "metadata": {},
   "outputs": [],
   "source": [
    "data_for_benchmark_model = taxi_grouped_by_region.copy()"
   ]
  },
  {
   "cell_type": "code",
   "execution_count": 172,
   "id": "1afceec2-92b1-4251-89b9-cc177ddbec9e",
   "metadata": {},
   "outputs": [],
   "source": [
    "categorical_features_benchmark = ['PULocationID', 'transaction_month', 'transaction_day', 'transaction_hour']\n",
    "input_features_benchmark = categorical_features_benchmark\n",
    "target_feature_benchmark = 'total_amount'"
   ]
  },
  {
   "cell_type": "markdown",
   "id": "b4f34966-995a-4dbe-996d-83b1b55c7b27",
   "metadata": {},
   "source": [
    "### 5.1 Train-test split <a id='train_test_split'></a>"
   ]
  },
  {
   "cell_type": "code",
   "execution_count": 173,
   "id": "0c9b67d1-506f-4e80-aa35-b0a9f54d1c1d",
   "metadata": {},
   "outputs": [],
   "source": [
    "X_bench = data_for_benchmark_model[input_features_benchmark]\n",
    "y_bench = data_for_benchmark_model[target_feature_benchmark]\n",
    "\n",
    "# one-hot encode\n",
    "X_bench = pd.get_dummies(X_bench)\n",
    "\n",
    "X_train_b, X_test_b, y_train_b, y_test_b = train_test_split(X_bench, y_bench, test_size=0.33, random_state=42)"
   ]
  },
  {
   "cell_type": "markdown",
   "id": "37b7f5ad-d43f-4ea9-aaf7-d2c2ae894c77",
   "metadata": {},
   "source": [
    "### 5.2 Fit a model to the data <a id='fit_model_to_data'></a>"
   ]
  },
  {
   "cell_type": "code",
   "execution_count": 174,
   "id": "e10392df-1b16-4368-b818-8c802a673572",
   "metadata": {},
   "outputs": [
    {
     "data": {
      "text/html": [
       "<style>#sk-container-id-3 {\n",
       "  /* Definition of color scheme common for light and dark mode */\n",
       "  --sklearn-color-text: #000;\n",
       "  --sklearn-color-text-muted: #666;\n",
       "  --sklearn-color-line: gray;\n",
       "  /* Definition of color scheme for unfitted estimators */\n",
       "  --sklearn-color-unfitted-level-0: #fff5e6;\n",
       "  --sklearn-color-unfitted-level-1: #f6e4d2;\n",
       "  --sklearn-color-unfitted-level-2: #ffe0b3;\n",
       "  --sklearn-color-unfitted-level-3: chocolate;\n",
       "  /* Definition of color scheme for fitted estimators */\n",
       "  --sklearn-color-fitted-level-0: #f0f8ff;\n",
       "  --sklearn-color-fitted-level-1: #d4ebff;\n",
       "  --sklearn-color-fitted-level-2: #b3dbfd;\n",
       "  --sklearn-color-fitted-level-3: cornflowerblue;\n",
       "\n",
       "  /* Specific color for light theme */\n",
       "  --sklearn-color-text-on-default-background: var(--sg-text-color, var(--theme-code-foreground, var(--jp-content-font-color1, black)));\n",
       "  --sklearn-color-background: var(--sg-background-color, var(--theme-background, var(--jp-layout-color0, white)));\n",
       "  --sklearn-color-border-box: var(--sg-text-color, var(--theme-code-foreground, var(--jp-content-font-color1, black)));\n",
       "  --sklearn-color-icon: #696969;\n",
       "\n",
       "  @media (prefers-color-scheme: dark) {\n",
       "    /* Redefinition of color scheme for dark theme */\n",
       "    --sklearn-color-text-on-default-background: var(--sg-text-color, var(--theme-code-foreground, var(--jp-content-font-color1, white)));\n",
       "    --sklearn-color-background: var(--sg-background-color, var(--theme-background, var(--jp-layout-color0, #111)));\n",
       "    --sklearn-color-border-box: var(--sg-text-color, var(--theme-code-foreground, var(--jp-content-font-color1, white)));\n",
       "    --sklearn-color-icon: #878787;\n",
       "  }\n",
       "}\n",
       "\n",
       "#sk-container-id-3 {\n",
       "  color: var(--sklearn-color-text);\n",
       "}\n",
       "\n",
       "#sk-container-id-3 pre {\n",
       "  padding: 0;\n",
       "}\n",
       "\n",
       "#sk-container-id-3 input.sk-hidden--visually {\n",
       "  border: 0;\n",
       "  clip: rect(1px 1px 1px 1px);\n",
       "  clip: rect(1px, 1px, 1px, 1px);\n",
       "  height: 1px;\n",
       "  margin: -1px;\n",
       "  overflow: hidden;\n",
       "  padding: 0;\n",
       "  position: absolute;\n",
       "  width: 1px;\n",
       "}\n",
       "\n",
       "#sk-container-id-3 div.sk-dashed-wrapped {\n",
       "  border: 1px dashed var(--sklearn-color-line);\n",
       "  margin: 0 0.4em 0.5em 0.4em;\n",
       "  box-sizing: border-box;\n",
       "  padding-bottom: 0.4em;\n",
       "  background-color: var(--sklearn-color-background);\n",
       "}\n",
       "\n",
       "#sk-container-id-3 div.sk-container {\n",
       "  /* jupyter's `normalize.less` sets `[hidden] { display: none; }`\n",
       "     but bootstrap.min.css set `[hidden] { display: none !important; }`\n",
       "     so we also need the `!important` here to be able to override the\n",
       "     default hidden behavior on the sphinx rendered scikit-learn.org.\n",
       "     See: https://github.com/scikit-learn/scikit-learn/issues/21755 */\n",
       "  display: inline-block !important;\n",
       "  position: relative;\n",
       "}\n",
       "\n",
       "#sk-container-id-3 div.sk-text-repr-fallback {\n",
       "  display: none;\n",
       "}\n",
       "\n",
       "div.sk-parallel-item,\n",
       "div.sk-serial,\n",
       "div.sk-item {\n",
       "  /* draw centered vertical line to link estimators */\n",
       "  background-image: linear-gradient(var(--sklearn-color-text-on-default-background), var(--sklearn-color-text-on-default-background));\n",
       "  background-size: 2px 100%;\n",
       "  background-repeat: no-repeat;\n",
       "  background-position: center center;\n",
       "}\n",
       "\n",
       "/* Parallel-specific style estimator block */\n",
       "\n",
       "#sk-container-id-3 div.sk-parallel-item::after {\n",
       "  content: \"\";\n",
       "  width: 100%;\n",
       "  border-bottom: 2px solid var(--sklearn-color-text-on-default-background);\n",
       "  flex-grow: 1;\n",
       "}\n",
       "\n",
       "#sk-container-id-3 div.sk-parallel {\n",
       "  display: flex;\n",
       "  align-items: stretch;\n",
       "  justify-content: center;\n",
       "  background-color: var(--sklearn-color-background);\n",
       "  position: relative;\n",
       "}\n",
       "\n",
       "#sk-container-id-3 div.sk-parallel-item {\n",
       "  display: flex;\n",
       "  flex-direction: column;\n",
       "}\n",
       "\n",
       "#sk-container-id-3 div.sk-parallel-item:first-child::after {\n",
       "  align-self: flex-end;\n",
       "  width: 50%;\n",
       "}\n",
       "\n",
       "#sk-container-id-3 div.sk-parallel-item:last-child::after {\n",
       "  align-self: flex-start;\n",
       "  width: 50%;\n",
       "}\n",
       "\n",
       "#sk-container-id-3 div.sk-parallel-item:only-child::after {\n",
       "  width: 0;\n",
       "}\n",
       "\n",
       "/* Serial-specific style estimator block */\n",
       "\n",
       "#sk-container-id-3 div.sk-serial {\n",
       "  display: flex;\n",
       "  flex-direction: column;\n",
       "  align-items: center;\n",
       "  background-color: var(--sklearn-color-background);\n",
       "  padding-right: 1em;\n",
       "  padding-left: 1em;\n",
       "}\n",
       "\n",
       "\n",
       "/* Toggleable style: style used for estimator/Pipeline/ColumnTransformer box that is\n",
       "clickable and can be expanded/collapsed.\n",
       "- Pipeline and ColumnTransformer use this feature and define the default style\n",
       "- Estimators will overwrite some part of the style using the `sk-estimator` class\n",
       "*/\n",
       "\n",
       "/* Pipeline and ColumnTransformer style (default) */\n",
       "\n",
       "#sk-container-id-3 div.sk-toggleable {\n",
       "  /* Default theme specific background. It is overwritten whether we have a\n",
       "  specific estimator or a Pipeline/ColumnTransformer */\n",
       "  background-color: var(--sklearn-color-background);\n",
       "}\n",
       "\n",
       "/* Toggleable label */\n",
       "#sk-container-id-3 label.sk-toggleable__label {\n",
       "  cursor: pointer;\n",
       "  display: flex;\n",
       "  width: 100%;\n",
       "  margin-bottom: 0;\n",
       "  padding: 0.5em;\n",
       "  box-sizing: border-box;\n",
       "  text-align: center;\n",
       "  align-items: start;\n",
       "  justify-content: space-between;\n",
       "  gap: 0.5em;\n",
       "}\n",
       "\n",
       "#sk-container-id-3 label.sk-toggleable__label .caption {\n",
       "  font-size: 0.6rem;\n",
       "  font-weight: lighter;\n",
       "  color: var(--sklearn-color-text-muted);\n",
       "}\n",
       "\n",
       "#sk-container-id-3 label.sk-toggleable__label-arrow:before {\n",
       "  /* Arrow on the left of the label */\n",
       "  content: \"▸\";\n",
       "  float: left;\n",
       "  margin-right: 0.25em;\n",
       "  color: var(--sklearn-color-icon);\n",
       "}\n",
       "\n",
       "#sk-container-id-3 label.sk-toggleable__label-arrow:hover:before {\n",
       "  color: var(--sklearn-color-text);\n",
       "}\n",
       "\n",
       "/* Toggleable content - dropdown */\n",
       "\n",
       "#sk-container-id-3 div.sk-toggleable__content {\n",
       "  max-height: 0;\n",
       "  max-width: 0;\n",
       "  overflow: hidden;\n",
       "  text-align: left;\n",
       "  /* unfitted */\n",
       "  background-color: var(--sklearn-color-unfitted-level-0);\n",
       "}\n",
       "\n",
       "#sk-container-id-3 div.sk-toggleable__content.fitted {\n",
       "  /* fitted */\n",
       "  background-color: var(--sklearn-color-fitted-level-0);\n",
       "}\n",
       "\n",
       "#sk-container-id-3 div.sk-toggleable__content pre {\n",
       "  margin: 0.2em;\n",
       "  border-radius: 0.25em;\n",
       "  color: var(--sklearn-color-text);\n",
       "  /* unfitted */\n",
       "  background-color: var(--sklearn-color-unfitted-level-0);\n",
       "}\n",
       "\n",
       "#sk-container-id-3 div.sk-toggleable__content.fitted pre {\n",
       "  /* unfitted */\n",
       "  background-color: var(--sklearn-color-fitted-level-0);\n",
       "}\n",
       "\n",
       "#sk-container-id-3 input.sk-toggleable__control:checked~div.sk-toggleable__content {\n",
       "  /* Expand drop-down */\n",
       "  max-height: 200px;\n",
       "  max-width: 100%;\n",
       "  overflow: auto;\n",
       "}\n",
       "\n",
       "#sk-container-id-3 input.sk-toggleable__control:checked~label.sk-toggleable__label-arrow:before {\n",
       "  content: \"▾\";\n",
       "}\n",
       "\n",
       "/* Pipeline/ColumnTransformer-specific style */\n",
       "\n",
       "#sk-container-id-3 div.sk-label input.sk-toggleable__control:checked~label.sk-toggleable__label {\n",
       "  color: var(--sklearn-color-text);\n",
       "  background-color: var(--sklearn-color-unfitted-level-2);\n",
       "}\n",
       "\n",
       "#sk-container-id-3 div.sk-label.fitted input.sk-toggleable__control:checked~label.sk-toggleable__label {\n",
       "  background-color: var(--sklearn-color-fitted-level-2);\n",
       "}\n",
       "\n",
       "/* Estimator-specific style */\n",
       "\n",
       "/* Colorize estimator box */\n",
       "#sk-container-id-3 div.sk-estimator input.sk-toggleable__control:checked~label.sk-toggleable__label {\n",
       "  /* unfitted */\n",
       "  background-color: var(--sklearn-color-unfitted-level-2);\n",
       "}\n",
       "\n",
       "#sk-container-id-3 div.sk-estimator.fitted input.sk-toggleable__control:checked~label.sk-toggleable__label {\n",
       "  /* fitted */\n",
       "  background-color: var(--sklearn-color-fitted-level-2);\n",
       "}\n",
       "\n",
       "#sk-container-id-3 div.sk-label label.sk-toggleable__label,\n",
       "#sk-container-id-3 div.sk-label label {\n",
       "  /* The background is the default theme color */\n",
       "  color: var(--sklearn-color-text-on-default-background);\n",
       "}\n",
       "\n",
       "/* On hover, darken the color of the background */\n",
       "#sk-container-id-3 div.sk-label:hover label.sk-toggleable__label {\n",
       "  color: var(--sklearn-color-text);\n",
       "  background-color: var(--sklearn-color-unfitted-level-2);\n",
       "}\n",
       "\n",
       "/* Label box, darken color on hover, fitted */\n",
       "#sk-container-id-3 div.sk-label.fitted:hover label.sk-toggleable__label.fitted {\n",
       "  color: var(--sklearn-color-text);\n",
       "  background-color: var(--sklearn-color-fitted-level-2);\n",
       "}\n",
       "\n",
       "/* Estimator label */\n",
       "\n",
       "#sk-container-id-3 div.sk-label label {\n",
       "  font-family: monospace;\n",
       "  font-weight: bold;\n",
       "  display: inline-block;\n",
       "  line-height: 1.2em;\n",
       "}\n",
       "\n",
       "#sk-container-id-3 div.sk-label-container {\n",
       "  text-align: center;\n",
       "}\n",
       "\n",
       "/* Estimator-specific */\n",
       "#sk-container-id-3 div.sk-estimator {\n",
       "  font-family: monospace;\n",
       "  border: 1px dotted var(--sklearn-color-border-box);\n",
       "  border-radius: 0.25em;\n",
       "  box-sizing: border-box;\n",
       "  margin-bottom: 0.5em;\n",
       "  /* unfitted */\n",
       "  background-color: var(--sklearn-color-unfitted-level-0);\n",
       "}\n",
       "\n",
       "#sk-container-id-3 div.sk-estimator.fitted {\n",
       "  /* fitted */\n",
       "  background-color: var(--sklearn-color-fitted-level-0);\n",
       "}\n",
       "\n",
       "/* on hover */\n",
       "#sk-container-id-3 div.sk-estimator:hover {\n",
       "  /* unfitted */\n",
       "  background-color: var(--sklearn-color-unfitted-level-2);\n",
       "}\n",
       "\n",
       "#sk-container-id-3 div.sk-estimator.fitted:hover {\n",
       "  /* fitted */\n",
       "  background-color: var(--sklearn-color-fitted-level-2);\n",
       "}\n",
       "\n",
       "/* Specification for estimator info (e.g. \"i\" and \"?\") */\n",
       "\n",
       "/* Common style for \"i\" and \"?\" */\n",
       "\n",
       ".sk-estimator-doc-link,\n",
       "a:link.sk-estimator-doc-link,\n",
       "a:visited.sk-estimator-doc-link {\n",
       "  float: right;\n",
       "  font-size: smaller;\n",
       "  line-height: 1em;\n",
       "  font-family: monospace;\n",
       "  background-color: var(--sklearn-color-background);\n",
       "  border-radius: 1em;\n",
       "  height: 1em;\n",
       "  width: 1em;\n",
       "  text-decoration: none !important;\n",
       "  margin-left: 0.5em;\n",
       "  text-align: center;\n",
       "  /* unfitted */\n",
       "  border: var(--sklearn-color-unfitted-level-1) 1pt solid;\n",
       "  color: var(--sklearn-color-unfitted-level-1);\n",
       "}\n",
       "\n",
       ".sk-estimator-doc-link.fitted,\n",
       "a:link.sk-estimator-doc-link.fitted,\n",
       "a:visited.sk-estimator-doc-link.fitted {\n",
       "  /* fitted */\n",
       "  border: var(--sklearn-color-fitted-level-1) 1pt solid;\n",
       "  color: var(--sklearn-color-fitted-level-1);\n",
       "}\n",
       "\n",
       "/* On hover */\n",
       "div.sk-estimator:hover .sk-estimator-doc-link:hover,\n",
       ".sk-estimator-doc-link:hover,\n",
       "div.sk-label-container:hover .sk-estimator-doc-link:hover,\n",
       ".sk-estimator-doc-link:hover {\n",
       "  /* unfitted */\n",
       "  background-color: var(--sklearn-color-unfitted-level-3);\n",
       "  color: var(--sklearn-color-background);\n",
       "  text-decoration: none;\n",
       "}\n",
       "\n",
       "div.sk-estimator.fitted:hover .sk-estimator-doc-link.fitted:hover,\n",
       ".sk-estimator-doc-link.fitted:hover,\n",
       "div.sk-label-container:hover .sk-estimator-doc-link.fitted:hover,\n",
       ".sk-estimator-doc-link.fitted:hover {\n",
       "  /* fitted */\n",
       "  background-color: var(--sklearn-color-fitted-level-3);\n",
       "  color: var(--sklearn-color-background);\n",
       "  text-decoration: none;\n",
       "}\n",
       "\n",
       "/* Span, style for the box shown on hovering the info icon */\n",
       ".sk-estimator-doc-link span {\n",
       "  display: none;\n",
       "  z-index: 9999;\n",
       "  position: relative;\n",
       "  font-weight: normal;\n",
       "  right: .2ex;\n",
       "  padding: .5ex;\n",
       "  margin: .5ex;\n",
       "  width: min-content;\n",
       "  min-width: 20ex;\n",
       "  max-width: 50ex;\n",
       "  color: var(--sklearn-color-text);\n",
       "  box-shadow: 2pt 2pt 4pt #999;\n",
       "  /* unfitted */\n",
       "  background: var(--sklearn-color-unfitted-level-0);\n",
       "  border: .5pt solid var(--sklearn-color-unfitted-level-3);\n",
       "}\n",
       "\n",
       ".sk-estimator-doc-link.fitted span {\n",
       "  /* fitted */\n",
       "  background: var(--sklearn-color-fitted-level-0);\n",
       "  border: var(--sklearn-color-fitted-level-3);\n",
       "}\n",
       "\n",
       ".sk-estimator-doc-link:hover span {\n",
       "  display: block;\n",
       "}\n",
       "\n",
       "/* \"?\"-specific style due to the `<a>` HTML tag */\n",
       "\n",
       "#sk-container-id-3 a.estimator_doc_link {\n",
       "  float: right;\n",
       "  font-size: 1rem;\n",
       "  line-height: 1em;\n",
       "  font-family: monospace;\n",
       "  background-color: var(--sklearn-color-background);\n",
       "  border-radius: 1rem;\n",
       "  height: 1rem;\n",
       "  width: 1rem;\n",
       "  text-decoration: none;\n",
       "  /* unfitted */\n",
       "  color: var(--sklearn-color-unfitted-level-1);\n",
       "  border: var(--sklearn-color-unfitted-level-1) 1pt solid;\n",
       "}\n",
       "\n",
       "#sk-container-id-3 a.estimator_doc_link.fitted {\n",
       "  /* fitted */\n",
       "  border: var(--sklearn-color-fitted-level-1) 1pt solid;\n",
       "  color: var(--sklearn-color-fitted-level-1);\n",
       "}\n",
       "\n",
       "/* On hover */\n",
       "#sk-container-id-3 a.estimator_doc_link:hover {\n",
       "  /* unfitted */\n",
       "  background-color: var(--sklearn-color-unfitted-level-3);\n",
       "  color: var(--sklearn-color-background);\n",
       "  text-decoration: none;\n",
       "}\n",
       "\n",
       "#sk-container-id-3 a.estimator_doc_link.fitted:hover {\n",
       "  /* fitted */\n",
       "  background-color: var(--sklearn-color-fitted-level-3);\n",
       "}\n",
       "</style><div id=\"sk-container-id-3\" class=\"sk-top-container\"><div class=\"sk-text-repr-fallback\"><pre>DecisionTreeRegressor(max_depth=10)</pre><b>In a Jupyter environment, please rerun this cell to show the HTML representation or trust the notebook. <br />On GitHub, the HTML representation is unable to render, please try loading this page with nbviewer.org.</b></div><div class=\"sk-container\" hidden><div class=\"sk-item\"><div class=\"sk-estimator fitted sk-toggleable\"><input class=\"sk-toggleable__control sk-hidden--visually\" id=\"sk-estimator-id-3\" type=\"checkbox\" checked><label for=\"sk-estimator-id-3\" class=\"sk-toggleable__label fitted sk-toggleable__label-arrow\"><div><div>DecisionTreeRegressor</div></div><div><a class=\"sk-estimator-doc-link fitted\" rel=\"noreferrer\" target=\"_blank\" href=\"https://scikit-learn.org/1.6/modules/generated/sklearn.tree.DecisionTreeRegressor.html\">?<span>Documentation for DecisionTreeRegressor</span></a><span class=\"sk-estimator-doc-link fitted\">i<span>Fitted</span></span></div></label><div class=\"sk-toggleable__content fitted\"><pre>DecisionTreeRegressor(max_depth=10)</pre></div> </div></div></div></div>"
      ],
      "text/plain": [
       "DecisionTreeRegressor(max_depth=10)"
      ]
     },
     "execution_count": 174,
     "metadata": {},
     "output_type": "execute_result"
    }
   ],
   "source": [
    "tree = DecisionTreeRegressor(max_depth=10)\n",
    "tree.fit(X_train_b, y_train_b)"
   ]
  },
  {
   "cell_type": "markdown",
   "id": "e871b926-2579-49b5-a68f-209348378381",
   "metadata": {},
   "source": [
    "### 5.3 Model evaluation <a id='model_evaluation'></a>"
   ]
  },
  {
   "cell_type": "code",
   "execution_count": 175,
   "id": "0fa791d5-d796-458c-b269-0dd56e949012",
   "metadata": {},
   "outputs": [
    {
     "name": "stdout",
     "output_type": "stream",
     "text": [
      "mean_absolute_error 10.844626040320264\n",
      "mean_squared_error 269.99896842738025\n",
      "root_mean_squared_error 16.431645335369804\n",
      "r2 0.22116102005659388\n"
     ]
    }
   ],
   "source": [
    "model_at_hand = tree\n",
    "\n",
    "y_pred_b = model_at_hand.predict(X_test_b)\n",
    "\n",
    "print('mean_absolute_error', mean_absolute_error(y_test_b, y_pred_b))\n",
    "print('mean_squared_error', mean_squared_error(y_test_b, y_pred_b))\n",
    "print('root_mean_squared_error', sqrt(mean_squared_error(y_test_b, y_pred_b)))\n",
    "print('r2', r2_score(y_test_b, y_pred_b))"
   ]
  },
  {
   "cell_type": "code",
   "execution_count": 176,
   "id": "9b855176-31a3-4566-9a20-345889db0fae",
   "metadata": {},
   "outputs": [
    {
     "data": {
      "text/plain": [
       "<Axes: xlabel='true', ylabel='pred'>"
      ]
     },
     "execution_count": 176,
     "metadata": {},
     "output_type": "execute_result"
    },
    {
     "data": {
      "image/png": "[encoded data removed]",
      "text/plain": [
       "<Figure size 2000x1000 with 1 Axes>"
      ]
     },
     "metadata": {},
     "output_type": "display_data"
    }
   ],
   "source": [
    "data = {'true': y_test_b, 'pred': y_pred_b}\n",
    "\n",
    "results = pd.DataFrame(data)\n",
    "\n",
    "results.plot(figsize=(20,10), kind='scatter', x='true', y='pred')"
   ]
  },
  {
   "cell_type": "markdown",
   "id": "5a070bd4-5993-4fbb-b6de-f8b2893ed927",
   "metadata": {},
   "source": [
    "## 6. Feature Engineering <a id='feature_engineering'></a>\n",
    "[Back to top](#structure_of_project)"
   ]
  },
  {
   "cell_type": "code",
   "execution_count": 177,
   "id": "3dfaf5f0-aa72-4aee-9a28-38920d20492d",
   "metadata": {},
   "outputs": [
    {
     "data": {
      "text/html": [
       "<div>\n",
       "<style scoped>\n",
       "    .dataframe tbody tr th:only-of-type {\n",
       "        vertical-align: middle;\n",
       "    }\n",
       "\n",
       "    .dataframe tbody tr th {\n",
       "        vertical-align: top;\n",
       "    }\n",
       "\n",
       "    .dataframe thead th {\n",
       "        text-align: right;\n",
       "    }\n",
       "</style>\n",
       "<table border=\"1\" class=\"dataframe\">\n",
       "  <thead>\n",
       "    <tr style=\"text-align: right;\">\n",
       "      <th></th>\n",
       "      <th>PULocationID</th>\n",
       "      <th>transaction_date</th>\n",
       "      <th>transaction_month</th>\n",
       "      <th>transaction_day</th>\n",
       "      <th>transaction_hour</th>\n",
       "      <th>trip_distance</th>\n",
       "      <th>total_amount</th>\n",
       "      <th>count_of_transactions</th>\n",
       "    </tr>\n",
       "  </thead>\n",
       "  <tbody>\n",
       "    <tr>\n",
       "      <th>0</th>\n",
       "      <td>1</td>\n",
       "      <td>2025-01-01</td>\n",
       "      <td>1</td>\n",
       "      <td>1</td>\n",
       "      <td>6</td>\n",
       "      <td>0.100000</td>\n",
       "      <td>115.000</td>\n",
       "      <td>1</td>\n",
       "    </tr>\n",
       "    <tr>\n",
       "      <th>1</th>\n",
       "      <td>1</td>\n",
       "      <td>2025-01-01</td>\n",
       "      <td>1</td>\n",
       "      <td>1</td>\n",
       "      <td>9</td>\n",
       "      <td>0.000000</td>\n",
       "      <td>132.510</td>\n",
       "      <td>4</td>\n",
       "    </tr>\n",
       "    <tr>\n",
       "      <th>2</th>\n",
       "      <td>1</td>\n",
       "      <td>2025-01-01</td>\n",
       "      <td>1</td>\n",
       "      <td>1</td>\n",
       "      <td>12</td>\n",
       "      <td>0.000000</td>\n",
       "      <td>106.200</td>\n",
       "      <td>2</td>\n",
       "    </tr>\n",
       "    <tr>\n",
       "      <th>3</th>\n",
       "      <td>1</td>\n",
       "      <td>2025-01-01</td>\n",
       "      <td>1</td>\n",
       "      <td>1</td>\n",
       "      <td>13</td>\n",
       "      <td>1.333333</td>\n",
       "      <td>56.400</td>\n",
       "      <td>3</td>\n",
       "    </tr>\n",
       "    <tr>\n",
       "      <th>4</th>\n",
       "      <td>1</td>\n",
       "      <td>2025-01-01</td>\n",
       "      <td>1</td>\n",
       "      <td>1</td>\n",
       "      <td>14</td>\n",
       "      <td>2.160000</td>\n",
       "      <td>70.205</td>\n",
       "      <td>2</td>\n",
       "    </tr>\n",
       "  </tbody>\n",
       "</table>\n",
       "</div>"
      ],
      "text/plain": [
       "  PULocationID transaction_date  transaction_month  transaction_day  \\\n",
       "0            1       2025-01-01                  1                1   \n",
       "1            1       2025-01-01                  1                1   \n",
       "2            1       2025-01-01                  1                1   \n",
       "3            1       2025-01-01                  1                1   \n",
       "4            1       2025-01-01                  1                1   \n",
       "\n",
       "   transaction_hour  trip_distance  total_amount  count_of_transactions  \n",
       "0                 6       0.100000       115.000                      1  \n",
       "1                 9       0.000000       132.510                      4  \n",
       "2                12       0.000000       106.200                      2  \n",
       "3                13       1.333333        56.400                      3  \n",
       "4                14       2.160000        70.205                      2  "
      ]
     },
     "execution_count": 177,
     "metadata": {},
     "output_type": "execute_result"
    }
   ],
   "source": [
    "taxi_grouped_by_region.head()"
   ]
  },
  {
   "cell_type": "code",
   "execution_count": 178,
   "id": "b363eba0-6d62-494b-90fa-b92e3c0e1fc0",
   "metadata": {},
   "outputs": [],
   "source": [
    "data_with_new_features = taxi_grouped_by_region.copy()"
   ]
  },
  {
   "cell_type": "code",
   "execution_count": 179,
   "id": "443a28b8-edea-46b5-a7ee-c5f244ebf8ec",
   "metadata": {},
   "outputs": [],
   "source": [
    "data_with_new_features['transaction_week_day'] = data_with_new_features['transaction_date'].dt.weekday\n",
    "data_with_new_features['weekend'] = data_with_new_features['transaction_week_day'].apply(lambda x: True if x==5 or x==6 else False)"
   ]
  },
  {
   "cell_type": "code",
   "execution_count": 180,
   "id": "624a65d7-b920-49f4-ba4c-91c8151d057f",
   "metadata": {},
   "outputs": [],
   "source": [
    "cal = USFederalHolidayCalendar()\n",
    "\n",
    "holidays = pd.to_datetime(cal.holidays(start='2024', end='2026').date)\n",
    "data_with_new_features.dtypes\n",
    "data_with_new_features['is_holiday'] = data_with_new_features['transaction_date'].isin(holidays)"
   ]
  },
  {
   "cell_type": "code",
   "execution_count": 181,
   "id": "0e3c2531-1881-4c27-a369-625fa9613022",
   "metadata": {},
   "outputs": [
    {
     "data": {
      "text/html": [
       "<div>\n",
       "<style scoped>\n",
       "    .dataframe tbody tr th:only-of-type {\n",
       "        vertical-align: middle;\n",
       "    }\n",
       "\n",
       "    .dataframe tbody tr th {\n",
       "        vertical-align: top;\n",
       "    }\n",
       "\n",
       "    .dataframe thead th {\n",
       "        text-align: right;\n",
       "    }\n",
       "</style>\n",
       "<table border=\"1\" class=\"dataframe\">\n",
       "  <thead>\n",
       "    <tr style=\"text-align: right;\">\n",
       "      <th></th>\n",
       "      <th>PULocationID</th>\n",
       "      <th>transaction_date</th>\n",
       "      <th>transaction_month</th>\n",
       "      <th>transaction_day</th>\n",
       "      <th>transaction_hour</th>\n",
       "      <th>trip_distance</th>\n",
       "      <th>total_amount</th>\n",
       "      <th>count_of_transactions</th>\n",
       "      <th>transaction_week_day</th>\n",
       "      <th>weekend</th>\n",
       "      <th>is_holiday</th>\n",
       "    </tr>\n",
       "  </thead>\n",
       "  <tbody>\n",
       "    <tr>\n",
       "      <th>0</th>\n",
       "      <td>1</td>\n",
       "      <td>2025-01-01</td>\n",
       "      <td>1</td>\n",
       "      <td>1</td>\n",
       "      <td>6</td>\n",
       "      <td>0.100000</td>\n",
       "      <td>115.000</td>\n",
       "      <td>1</td>\n",
       "      <td>2</td>\n",
       "      <td>False</td>\n",
       "      <td>True</td>\n",
       "    </tr>\n",
       "    <tr>\n",
       "      <th>1</th>\n",
       "      <td>1</td>\n",
       "      <td>2025-01-01</td>\n",
       "      <td>1</td>\n",
       "      <td>1</td>\n",
       "      <td>9</td>\n",
       "      <td>0.000000</td>\n",
       "      <td>132.510</td>\n",
       "      <td>4</td>\n",
       "      <td>2</td>\n",
       "      <td>False</td>\n",
       "      <td>True</td>\n",
       "    </tr>\n",
       "    <tr>\n",
       "      <th>2</th>\n",
       "      <td>1</td>\n",
       "      <td>2025-01-01</td>\n",
       "      <td>1</td>\n",
       "      <td>1</td>\n",
       "      <td>12</td>\n",
       "      <td>0.000000</td>\n",
       "      <td>106.200</td>\n",
       "      <td>2</td>\n",
       "      <td>2</td>\n",
       "      <td>False</td>\n",
       "      <td>True</td>\n",
       "    </tr>\n",
       "    <tr>\n",
       "      <th>3</th>\n",
       "      <td>1</td>\n",
       "      <td>2025-01-01</td>\n",
       "      <td>1</td>\n",
       "      <td>1</td>\n",
       "      <td>13</td>\n",
       "      <td>1.333333</td>\n",
       "      <td>56.400</td>\n",
       "      <td>3</td>\n",
       "      <td>2</td>\n",
       "      <td>False</td>\n",
       "      <td>True</td>\n",
       "    </tr>\n",
       "    <tr>\n",
       "      <th>4</th>\n",
       "      <td>1</td>\n",
       "      <td>2025-01-01</td>\n",
       "      <td>1</td>\n",
       "      <td>1</td>\n",
       "      <td>14</td>\n",
       "      <td>2.160000</td>\n",
       "      <td>70.205</td>\n",
       "      <td>2</td>\n",
       "      <td>2</td>\n",
       "      <td>False</td>\n",
       "      <td>True</td>\n",
       "    </tr>\n",
       "  </tbody>\n",
       "</table>\n",
       "</div>"
      ],
      "text/plain": [
       "  PULocationID transaction_date  transaction_month  transaction_day  \\\n",
       "0            1       2025-01-01                  1                1   \n",
       "1            1       2025-01-01                  1                1   \n",
       "2            1       2025-01-01                  1                1   \n",
       "3            1       2025-01-01                  1                1   \n",
       "4            1       2025-01-01                  1                1   \n",
       "\n",
       "   transaction_hour  trip_distance  total_amount  count_of_transactions  \\\n",
       "0                 6       0.100000       115.000                      1   \n",
       "1                 9       0.000000       132.510                      4   \n",
       "2                12       0.000000       106.200                      2   \n",
       "3                13       1.333333        56.400                      3   \n",
       "4                14       2.160000        70.205                      2   \n",
       "\n",
       "   transaction_week_day  weekend  is_holiday  \n",
       "0                     2    False        True  \n",
       "1                     2    False        True  \n",
       "2                     2    False        True  \n",
       "3                     2    False        True  \n",
       "4                     2    False        True  "
      ]
     },
     "execution_count": 181,
     "metadata": {},
     "output_type": "execute_result"
    }
   ],
   "source": [
    "data_with_new_features.head()"
   ]
  },
  {
   "cell_type": "code",
   "execution_count": 182,
   "id": "19a4dc0f-5a97-4d0b-b2c9-4d0d8ede29ae",
   "metadata": {},
   "outputs": [
    {
     "data": {
      "text/html": [
       "<div>\n",
       "<style scoped>\n",
       "    .dataframe tbody tr th:only-of-type {\n",
       "        vertical-align: middle;\n",
       "    }\n",
       "\n",
       "    .dataframe tbody tr th {\n",
       "        vertical-align: top;\n",
       "    }\n",
       "\n",
       "    .dataframe thead th {\n",
       "        text-align: right;\n",
       "    }\n",
       "</style>\n",
       "<table border=\"1\" class=\"dataframe\">\n",
       "  <thead>\n",
       "    <tr style=\"text-align: right;\">\n",
       "      <th></th>\n",
       "      <th>LocationID</th>\n",
       "      <th>Borough</th>\n",
       "    </tr>\n",
       "  </thead>\n",
       "  <tbody>\n",
       "    <tr>\n",
       "      <th>0</th>\n",
       "      <td>1</td>\n",
       "      <td>EWR</td>\n",
       "    </tr>\n",
       "    <tr>\n",
       "      <th>1</th>\n",
       "      <td>2</td>\n",
       "      <td>Queens</td>\n",
       "    </tr>\n",
       "    <tr>\n",
       "      <th>2</th>\n",
       "      <td>3</td>\n",
       "      <td>Bronx</td>\n",
       "    </tr>\n",
       "    <tr>\n",
       "      <th>3</th>\n",
       "      <td>4</td>\n",
       "      <td>Manhattan</td>\n",
       "    </tr>\n",
       "    <tr>\n",
       "      <th>4</th>\n",
       "      <td>5</td>\n",
       "      <td>Staten Island</td>\n",
       "    </tr>\n",
       "  </tbody>\n",
       "</table>\n",
       "</div>"
      ],
      "text/plain": [
       "  LocationID        Borough\n",
       "0          1            EWR\n",
       "1          2         Queens\n",
       "2          3          Bronx\n",
       "3          4      Manhattan\n",
       "4          5  Staten Island"
      ]
     },
     "execution_count": 182,
     "metadata": {},
     "output_type": "execute_result"
    }
   ],
   "source": [
    "zone_lookup = zone_lookup[['LocationID', 'Borough']]\n",
    "zone_lookup['LocationID'] = zone_lookup['LocationID'].astype(str)\n",
    "zone_lookup.head()"
   ]
  },
  {
   "cell_type": "code",
   "execution_count": 183,
   "id": "1f0a76e3-4805-427c-a858-c9acdcda98ad",
   "metadata": {},
   "outputs": [
    {
     "data": {
      "text/html": [
       "<div>\n",
       "<style scoped>\n",
       "    .dataframe tbody tr th:only-of-type {\n",
       "        vertical-align: middle;\n",
       "    }\n",
       "\n",
       "    .dataframe tbody tr th {\n",
       "        vertical-align: top;\n",
       "    }\n",
       "\n",
       "    .dataframe thead th {\n",
       "        text-align: right;\n",
       "    }\n",
       "</style>\n",
       "<table border=\"1\" class=\"dataframe\">\n",
       "  <thead>\n",
       "    <tr style=\"text-align: right;\">\n",
       "      <th></th>\n",
       "      <th>PULocationID</th>\n",
       "      <th>transaction_date</th>\n",
       "      <th>transaction_month</th>\n",
       "      <th>transaction_day</th>\n",
       "      <th>transaction_hour</th>\n",
       "      <th>trip_distance</th>\n",
       "      <th>total_amount</th>\n",
       "      <th>count_of_transactions</th>\n",
       "      <th>transaction_week_day</th>\n",
       "      <th>weekend</th>\n",
       "      <th>is_holiday</th>\n",
       "      <th>LocationID</th>\n",
       "      <th>Borough</th>\n",
       "    </tr>\n",
       "  </thead>\n",
       "  <tbody>\n",
       "    <tr>\n",
       "      <th>0</th>\n",
       "      <td>1</td>\n",
       "      <td>2025-01-01</td>\n",
       "      <td>1</td>\n",
       "      <td>1</td>\n",
       "      <td>6</td>\n",
       "      <td>0.100000</td>\n",
       "      <td>115.000</td>\n",
       "      <td>1</td>\n",
       "      <td>2</td>\n",
       "      <td>False</td>\n",
       "      <td>True</td>\n",
       "      <td>1</td>\n",
       "      <td>EWR</td>\n",
       "    </tr>\n",
       "    <tr>\n",
       "      <th>1</th>\n",
       "      <td>1</td>\n",
       "      <td>2025-01-01</td>\n",
       "      <td>1</td>\n",
       "      <td>1</td>\n",
       "      <td>9</td>\n",
       "      <td>0.000000</td>\n",
       "      <td>132.510</td>\n",
       "      <td>4</td>\n",
       "      <td>2</td>\n",
       "      <td>False</td>\n",
       "      <td>True</td>\n",
       "      <td>1</td>\n",
       "      <td>EWR</td>\n",
       "    </tr>\n",
       "    <tr>\n",
       "      <th>2</th>\n",
       "      <td>1</td>\n",
       "      <td>2025-01-01</td>\n",
       "      <td>1</td>\n",
       "      <td>1</td>\n",
       "      <td>12</td>\n",
       "      <td>0.000000</td>\n",
       "      <td>106.200</td>\n",
       "      <td>2</td>\n",
       "      <td>2</td>\n",
       "      <td>False</td>\n",
       "      <td>True</td>\n",
       "      <td>1</td>\n",
       "      <td>EWR</td>\n",
       "    </tr>\n",
       "    <tr>\n",
       "      <th>3</th>\n",
       "      <td>1</td>\n",
       "      <td>2025-01-01</td>\n",
       "      <td>1</td>\n",
       "      <td>1</td>\n",
       "      <td>13</td>\n",
       "      <td>1.333333</td>\n",
       "      <td>56.400</td>\n",
       "      <td>3</td>\n",
       "      <td>2</td>\n",
       "      <td>False</td>\n",
       "      <td>True</td>\n",
       "      <td>1</td>\n",
       "      <td>EWR</td>\n",
       "    </tr>\n",
       "    <tr>\n",
       "      <th>4</th>\n",
       "      <td>1</td>\n",
       "      <td>2025-01-01</td>\n",
       "      <td>1</td>\n",
       "      <td>1</td>\n",
       "      <td>14</td>\n",
       "      <td>2.160000</td>\n",
       "      <td>70.205</td>\n",
       "      <td>2</td>\n",
       "      <td>2</td>\n",
       "      <td>False</td>\n",
       "      <td>True</td>\n",
       "      <td>1</td>\n",
       "      <td>EWR</td>\n",
       "    </tr>\n",
       "  </tbody>\n",
       "</table>\n",
       "</div>"
      ],
      "text/plain": [
       "  PULocationID transaction_date  transaction_month  transaction_day  \\\n",
       "0            1       2025-01-01                  1                1   \n",
       "1            1       2025-01-01                  1                1   \n",
       "2            1       2025-01-01                  1                1   \n",
       "3            1       2025-01-01                  1                1   \n",
       "4            1       2025-01-01                  1                1   \n",
       "\n",
       "   transaction_hour  trip_distance  total_amount  count_of_transactions  \\\n",
       "0                 6       0.100000       115.000                      1   \n",
       "1                 9       0.000000       132.510                      4   \n",
       "2                12       0.000000       106.200                      2   \n",
       "3                13       1.333333        56.400                      3   \n",
       "4                14       2.160000        70.205                      2   \n",
       "\n",
       "   transaction_week_day  weekend  is_holiday LocationID Borough  \n",
       "0                     2    False        True          1     EWR  \n",
       "1                     2    False        True          1     EWR  \n",
       "2                     2    False        True          1     EWR  \n",
       "3                     2    False        True          1     EWR  \n",
       "4                     2    False        True          1     EWR  "
      ]
     },
     "execution_count": 183,
     "metadata": {},
     "output_type": "execute_result"
    }
   ],
   "source": [
    "data_with_new_features = data_with_new_features.merge(zone_lookup, left_on='PULocationID', right_on='LocationID', how='left')\n",
    "data_with_new_features.head()"
   ]
  },
  {
   "cell_type": "code",
   "execution_count": 264,
   "id": "c0cc814b-c52b-400f-ab4f-91918ff341d1",
   "metadata": {},
   "outputs": [
    {
     "data": {
      "text/plain": [
       "Borough\n",
       "Manhattan        42914\n",
       "Brooklyn         22165\n",
       "Queens           20930\n",
       "Bronx             8914\n",
       "Unknown            687\n",
       "NaN                559\n",
       "EWR                230\n",
       "Staten Island      227\n",
       "Name: count, dtype: int64"
      ]
     },
     "execution_count": 264,
     "metadata": {},
     "output_type": "execute_result"
    }
   ],
   "source": [
    "data_with_new_features['Borough'].value_counts(dropna=False)"
   ]
  },
  {
   "cell_type": "code",
   "execution_count": 266,
   "id": "a8f1e2bf-c91b-4e5d-bfd3-4a636f9861da",
   "metadata": {},
   "outputs": [],
   "source": [
    "data_with_new_features['Borough'] = data_with_new_features['Borough'].fillna('Unknown')"
   ]
  },
  {
   "cell_type": "code",
   "execution_count": 267,
   "id": "43ca87be-7159-4f84-9ba0-621b20f83e10",
   "metadata": {},
   "outputs": [],
   "source": [
    "nyc = Point(40.7128, -74.0060)\n",
    "data = Hourly(nyc, start=datetime(2025, 1, 1), end=datetime(2025, 1, 31))\n",
    "nyc_weather = data.fetch()"
   ]
  },
  {
   "cell_type": "code",
   "execution_count": 268,
   "id": "55d3a496-df93-421d-8ce5-1143dae1a5a1",
   "metadata": {},
   "outputs": [
    {
     "name": "stdout",
     "output_type": "stream",
     "text": [
      "<class 'pandas.core.frame.DataFrame'>\n",
      "DatetimeIndex: 721 entries, 2025-01-01 00:00:00 to 2025-01-31 00:00:00\n",
      "Freq: h\n",
      "Data columns (total 11 columns):\n",
      " #   Column  Non-Null Count  Dtype  \n",
      "---  ------  --------------  -----  \n",
      " 0   temp    721 non-null    Float64\n",
      " 1   dwpt    721 non-null    Float64\n",
      " 2   rhum    721 non-null    Float64\n",
      " 3   prcp    721 non-null    Float64\n",
      " 4   snow    0 non-null      Float64\n",
      " 5   wdir    721 non-null    Float64\n",
      " 6   wspd    721 non-null    Float64\n",
      " 7   wpgt    0 non-null      Float64\n",
      " 8   pres    721 non-null    Float64\n",
      " 9   tsun    0 non-null      Float64\n",
      " 10  coco    721 non-null    Float64\n",
      "dtypes: Float64(11)\n",
      "memory usage: 75.3 KB\n"
     ]
    }
   ],
   "source": [
    "nyc_weather.info()"
   ]
  },
  {
   "cell_type": "code",
   "execution_count": 269,
   "id": "d8fe4d46-4929-437c-8617-51fa1292d388",
   "metadata": {},
   "outputs": [],
   "source": [
    "nyc_weather.rename(columns={\n",
    "    'temp': 'temperature',\n",
    "    'rhum': 'humidity',\n",
    "    'wspd': 'wind_speed',\n",
    "    'coco': 'cloud_cover',\n",
    "    'prcp': 'amount_of_precipitation'\n",
    "}, inplace=True)\n",
    "nyc_weather.drop(columns=['dwpt', 'snow', 'wdir', 'pres', 'tsun', 'wpgt'], inplace=True)"
   ]
  },
  {
   "cell_type": "code",
   "execution_count": 270,
   "id": "4def7628-c90c-4ede-9361-ff62ecb843e8",
   "metadata": {},
   "outputs": [
    {
     "data": {
      "text/html": [
       "<div>\n",
       "<style scoped>\n",
       "    .dataframe tbody tr th:only-of-type {\n",
       "        vertical-align: middle;\n",
       "    }\n",
       "\n",
       "    .dataframe tbody tr th {\n",
       "        vertical-align: top;\n",
       "    }\n",
       "\n",
       "    .dataframe thead th {\n",
       "        text-align: right;\n",
       "    }\n",
       "</style>\n",
       "<table border=\"1\" class=\"dataframe\">\n",
       "  <thead>\n",
       "    <tr style=\"text-align: right;\">\n",
       "      <th></th>\n",
       "      <th>temperature</th>\n",
       "      <th>humidity</th>\n",
       "      <th>amount_of_precipitation</th>\n",
       "      <th>wind_speed</th>\n",
       "      <th>cloud_cover</th>\n",
       "    </tr>\n",
       "    <tr>\n",
       "      <th>time</th>\n",
       "      <th></th>\n",
       "      <th></th>\n",
       "      <th></th>\n",
       "      <th></th>\n",
       "      <th></th>\n",
       "    </tr>\n",
       "  </thead>\n",
       "  <tbody>\n",
       "    <tr>\n",
       "      <th>2025-01-01 00:00:00</th>\n",
       "      <td>9.0</td>\n",
       "      <td>74.0</td>\n",
       "      <td>0.0</td>\n",
       "      <td>28.0</td>\n",
       "      <td>3.0</td>\n",
       "    </tr>\n",
       "    <tr>\n",
       "      <th>2025-01-01 01:00:00</th>\n",
       "      <td>9.4</td>\n",
       "      <td>74.0</td>\n",
       "      <td>0.9</td>\n",
       "      <td>27.7</td>\n",
       "      <td>8.0</td>\n",
       "    </tr>\n",
       "    <tr>\n",
       "      <th>2025-01-01 02:00:00</th>\n",
       "      <td>8.3</td>\n",
       "      <td>90.0</td>\n",
       "      <td>2.5</td>\n",
       "      <td>5.4</td>\n",
       "      <td>9.0</td>\n",
       "    </tr>\n",
       "    <tr>\n",
       "      <th>2025-01-01 03:00:00</th>\n",
       "      <td>8.0</td>\n",
       "      <td>92.0</td>\n",
       "      <td>1.5</td>\n",
       "      <td>18.4</td>\n",
       "      <td>9.0</td>\n",
       "    </tr>\n",
       "    <tr>\n",
       "      <th>2025-01-01 04:00:00</th>\n",
       "      <td>7.8</td>\n",
       "      <td>94.0</td>\n",
       "      <td>4.7</td>\n",
       "      <td>27.7</td>\n",
       "      <td>9.0</td>\n",
       "    </tr>\n",
       "  </tbody>\n",
       "</table>\n",
       "</div>"
      ],
      "text/plain": [
       "                     temperature  humidity  amount_of_precipitation  \\\n",
       "time                                                                  \n",
       "2025-01-01 00:00:00          9.0      74.0                      0.0   \n",
       "2025-01-01 01:00:00          9.4      74.0                      0.9   \n",
       "2025-01-01 02:00:00          8.3      90.0                      2.5   \n",
       "2025-01-01 03:00:00          8.0      92.0                      1.5   \n",
       "2025-01-01 04:00:00          7.8      94.0                      4.7   \n",
       "\n",
       "                     wind_speed  cloud_cover  \n",
       "time                                          \n",
       "2025-01-01 00:00:00        28.0          3.0  \n",
       "2025-01-01 01:00:00        27.7          8.0  \n",
       "2025-01-01 02:00:00         5.4          9.0  \n",
       "2025-01-01 03:00:00        18.4          9.0  \n",
       "2025-01-01 04:00:00        27.7          9.0  "
      ]
     },
     "execution_count": 270,
     "metadata": {},
     "output_type": "execute_result"
    }
   ],
   "source": [
    "nyc_weather.head()"
   ]
  },
  {
   "cell_type": "code",
   "execution_count": 271,
   "id": "7d018a3e-8d3b-439d-b3f8-c34ff7652e81",
   "metadata": {},
   "outputs": [
    {
     "data": {
      "text/plain": [
       "temperature                Float64\n",
       "humidity                   Float64\n",
       "amount_of_precipitation    Float64\n",
       "wind_speed                 Float64\n",
       "cloud_cover                Float64\n",
       "dtype: object"
      ]
     },
     "execution_count": 271,
     "metadata": {},
     "output_type": "execute_result"
    }
   ],
   "source": [
    "nyc_weather.dtypes"
   ]
  },
  {
   "cell_type": "code",
   "execution_count": 272,
   "id": "6ecce8d4-e4f8-4c72-a2b5-2529dfac8a70",
   "metadata": {},
   "outputs": [
    {
     "data": {
      "text/plain": [
       "amount_of_precipitation\n",
       "0.0    691\n",
       "0.1      7\n",
       "0.2      5\n",
       "0.3      5\n",
       "0.9      3\n",
       "0.7      2\n",
       "0.5      2\n",
       "2.5      1\n",
       "1.5      1\n",
       "4.7      1\n",
       "0.4      1\n",
       "0.8      1\n",
       "2.3      1\n",
       "Name: count, dtype: Int64"
      ]
     },
     "execution_count": 272,
     "metadata": {},
     "output_type": "execute_result"
    }
   ],
   "source": [
    "nyc_weather['amount_of_precipitation'].value_counts(dropna=False)"
   ]
  },
  {
   "cell_type": "code",
   "execution_count": 273,
   "id": "c05189ad-5725-4804-842b-6396587b455a",
   "metadata": {},
   "outputs": [
    {
     "data": {
      "text/plain": [
       "cloud_cover\n",
       "3.0     366\n",
       "1.0     218\n",
       "2.0     105\n",
       "15.0      9\n",
       "14.0      6\n",
       "7.0       4\n",
       "8.0       3\n",
       "9.0       3\n",
       "12.0      3\n",
       "5.0       2\n",
       "17.0      1\n",
       "16.0      1\n",
       "Name: count, dtype: Int64"
      ]
     },
     "execution_count": 273,
     "metadata": {},
     "output_type": "execute_result"
    }
   ],
   "source": [
    "nyc_weather['cloud_cover'].value_counts(dropna=False)"
   ]
  },
  {
   "cell_type": "code",
   "execution_count": 274,
   "id": "0b94f9e0-3dfb-47d6-9050-a72fc693559d",
   "metadata": {},
   "outputs": [
    {
     "data": {
      "text/plain": [
       "temperature                0\n",
       "humidity                   0\n",
       "amount_of_precipitation    0\n",
       "wind_speed                 0\n",
       "cloud_cover                0\n",
       "dtype: int64"
      ]
     },
     "execution_count": 274,
     "metadata": {},
     "output_type": "execute_result"
    }
   ],
   "source": [
    "nyc_weather.isna().sum()"
   ]
  },
  {
   "cell_type": "code",
   "execution_count": 275,
   "id": "732f36a5-db45-4de3-84c3-cd4ebdd549a6",
   "metadata": {},
   "outputs": [
    {
     "data": {
      "text/plain": [
       "array([[<Axes: title={'center': 'temperature'}>,\n",
       "        <Axes: title={'center': 'humidity'}>],\n",
       "       [<Axes: title={'center': 'amount_of_precipitation'}>,\n",
       "        <Axes: title={'center': 'wind_speed'}>],\n",
       "       [<Axes: title={'center': 'cloud_cover'}>, <Axes: >]], dtype=object)"
      ]
     },
     "execution_count": 275,
     "metadata": {},
     "output_type": "execute_result"
    },
    {
     "data": {
      "image/png": "[encoded data removed]",
      "text/plain": [
       "<Figure size 2000x1000 with 6 Axes>"
      ]
     },
     "metadata": {},
     "output_type": "display_data"
    }
   ],
   "source": [
    "nyc_weather.hist(bins=60, figsize=(20,10))"
   ]
  },
  {
   "cell_type": "code",
   "execution_count": 276,
   "id": "f32051ad-4672-4cfd-bde7-53903990c1e7",
   "metadata": {},
   "outputs": [
    {
     "data": {
      "text/plain": [
       "(721, 5)"
      ]
     },
     "execution_count": 276,
     "metadata": {},
     "output_type": "execute_result"
    }
   ],
   "source": [
    "nyc_weather.shape"
   ]
  },
  {
   "cell_type": "code",
   "execution_count": 277,
   "id": "369eb766-ce43-4166-8b27-e664c929be8a",
   "metadata": {},
   "outputs": [],
   "source": [
    "nyc_weather = nyc_weather.reset_index()"
   ]
  },
  {
   "cell_type": "code",
   "execution_count": 278,
   "id": "2100e3ae-80dc-4e30-be65-6f3c5eabe105",
   "metadata": {},
   "outputs": [
    {
     "name": "stdout",
     "output_type": "stream",
     "text": [
      "Index(['time', 'temperature', 'humidity', 'amount_of_precipitation',\n",
      "       'wind_speed', 'cloud_cover'],\n",
      "      dtype='object')\n"
     ]
    }
   ],
   "source": [
    "print(nyc_weather.columns)"
   ]
  },
  {
   "cell_type": "code",
   "execution_count": 279,
   "id": "1e6da802-0a06-4ad3-b7cf-f4ded89f10fc",
   "metadata": {},
   "outputs": [],
   "source": [
    "nyc_weather = nyc_weather.rename(columns={'time': 'weather_datetime'})"
   ]
  },
  {
   "cell_type": "code",
   "execution_count": 280,
   "id": "46c7abf5-53cf-4f22-8475-4b71492bbfb7",
   "metadata": {},
   "outputs": [],
   "source": [
    "nyc_weather['weather_datetime'] = pd.to_datetime(nyc_weather['weather_datetime'])"
   ]
  },
  {
   "cell_type": "code",
   "execution_count": 281,
   "id": "d3e9e1b2-be74-4373-b55f-3b6e8ff1f700",
   "metadata": {},
   "outputs": [],
   "source": [
    "nyc_weather.loc[:,'weather_datetime'] = pd.to_datetime(nyc_weather.loc[:,'weather_datetime'])\n",
    "nyc_weather['hour'] = nyc_weather['weather_datetime'].dt.hour\n",
    "nyc_weather['month'] = nyc_weather['weather_datetime'].dt.month\n",
    "nyc_weather['day'] = nyc_weather['weather_datetime'].dt.day"
   ]
  },
  {
   "cell_type": "code",
   "execution_count": 282,
   "id": "b91ff40c-3adb-4d77-b314-fa79563fdfda",
   "metadata": {},
   "outputs": [
    {
     "data": {
      "text/html": [
       "<div>\n",
       "<style scoped>\n",
       "    .dataframe tbody tr th:only-of-type {\n",
       "        vertical-align: middle;\n",
       "    }\n",
       "\n",
       "    .dataframe tbody tr th {\n",
       "        vertical-align: top;\n",
       "    }\n",
       "\n",
       "    .dataframe thead th {\n",
       "        text-align: right;\n",
       "    }\n",
       "</style>\n",
       "<table border=\"1\" class=\"dataframe\">\n",
       "  <thead>\n",
       "    <tr style=\"text-align: right;\">\n",
       "      <th></th>\n",
       "      <th>weather_datetime</th>\n",
       "      <th>temperature</th>\n",
       "      <th>humidity</th>\n",
       "      <th>amount_of_precipitation</th>\n",
       "      <th>wind_speed</th>\n",
       "      <th>cloud_cover</th>\n",
       "      <th>hour</th>\n",
       "      <th>month</th>\n",
       "      <th>day</th>\n",
       "    </tr>\n",
       "  </thead>\n",
       "  <tbody>\n",
       "    <tr>\n",
       "      <th>0</th>\n",
       "      <td>2025-01-01 00:00:00</td>\n",
       "      <td>9.0</td>\n",
       "      <td>74.0</td>\n",
       "      <td>0.0</td>\n",
       "      <td>28.0</td>\n",
       "      <td>3.0</td>\n",
       "      <td>0</td>\n",
       "      <td>1</td>\n",
       "      <td>1</td>\n",
       "    </tr>\n",
       "    <tr>\n",
       "      <th>1</th>\n",
       "      <td>2025-01-01 01:00:00</td>\n",
       "      <td>9.4</td>\n",
       "      <td>74.0</td>\n",
       "      <td>0.9</td>\n",
       "      <td>27.7</td>\n",
       "      <td>8.0</td>\n",
       "      <td>1</td>\n",
       "      <td>1</td>\n",
       "      <td>1</td>\n",
       "    </tr>\n",
       "    <tr>\n",
       "      <th>2</th>\n",
       "      <td>2025-01-01 02:00:00</td>\n",
       "      <td>8.3</td>\n",
       "      <td>90.0</td>\n",
       "      <td>2.5</td>\n",
       "      <td>5.4</td>\n",
       "      <td>9.0</td>\n",
       "      <td>2</td>\n",
       "      <td>1</td>\n",
       "      <td>1</td>\n",
       "    </tr>\n",
       "    <tr>\n",
       "      <th>3</th>\n",
       "      <td>2025-01-01 03:00:00</td>\n",
       "      <td>8.0</td>\n",
       "      <td>92.0</td>\n",
       "      <td>1.5</td>\n",
       "      <td>18.4</td>\n",
       "      <td>9.0</td>\n",
       "      <td>3</td>\n",
       "      <td>1</td>\n",
       "      <td>1</td>\n",
       "    </tr>\n",
       "    <tr>\n",
       "      <th>4</th>\n",
       "      <td>2025-01-01 04:00:00</td>\n",
       "      <td>7.8</td>\n",
       "      <td>94.0</td>\n",
       "      <td>4.7</td>\n",
       "      <td>27.7</td>\n",
       "      <td>9.0</td>\n",
       "      <td>4</td>\n",
       "      <td>1</td>\n",
       "      <td>1</td>\n",
       "    </tr>\n",
       "  </tbody>\n",
       "</table>\n",
       "</div>"
      ],
      "text/plain": [
       "     weather_datetime  temperature  humidity  amount_of_precipitation  \\\n",
       "0 2025-01-01 00:00:00          9.0      74.0                      0.0   \n",
       "1 2025-01-01 01:00:00          9.4      74.0                      0.9   \n",
       "2 2025-01-01 02:00:00          8.3      90.0                      2.5   \n",
       "3 2025-01-01 03:00:00          8.0      92.0                      1.5   \n",
       "4 2025-01-01 04:00:00          7.8      94.0                      4.7   \n",
       "\n",
       "   wind_speed  cloud_cover  hour  month  day  \n",
       "0        28.0          3.0     0      1    1  \n",
       "1        27.7          8.0     1      1    1  \n",
       "2         5.4          9.0     2      1    1  \n",
       "3        18.4          9.0     3      1    1  \n",
       "4        27.7          9.0     4      1    1  "
      ]
     },
     "execution_count": 282,
     "metadata": {},
     "output_type": "execute_result"
    }
   ],
   "source": [
    "nyc_weather.head()"
   ]
  },
  {
   "cell_type": "code",
   "execution_count": 283,
   "id": "7b6c690c-be99-4b0c-931c-1a5fa65c772f",
   "metadata": {},
   "outputs": [
    {
     "data": {
      "text/html": [
       "<div>\n",
       "<style scoped>\n",
       "    .dataframe tbody tr th:only-of-type {\n",
       "        vertical-align: middle;\n",
       "    }\n",
       "\n",
       "    .dataframe tbody tr th {\n",
       "        vertical-align: top;\n",
       "    }\n",
       "\n",
       "    .dataframe thead th {\n",
       "        text-align: right;\n",
       "    }\n",
       "</style>\n",
       "<table border=\"1\" class=\"dataframe\">\n",
       "  <thead>\n",
       "    <tr style=\"text-align: right;\">\n",
       "      <th></th>\n",
       "      <th>PULocationID</th>\n",
       "      <th>transaction_date</th>\n",
       "      <th>transaction_month</th>\n",
       "      <th>transaction_day</th>\n",
       "      <th>transaction_hour</th>\n",
       "      <th>trip_distance</th>\n",
       "      <th>total_amount</th>\n",
       "      <th>count_of_transactions</th>\n",
       "      <th>transaction_week_day</th>\n",
       "      <th>weekend</th>\n",
       "      <th>is_holiday</th>\n",
       "      <th>LocationID</th>\n",
       "      <th>Borough</th>\n",
       "    </tr>\n",
       "  </thead>\n",
       "  <tbody>\n",
       "    <tr>\n",
       "      <th>0</th>\n",
       "      <td>1</td>\n",
       "      <td>2025-01-01</td>\n",
       "      <td>1</td>\n",
       "      <td>1</td>\n",
       "      <td>6</td>\n",
       "      <td>0.100000</td>\n",
       "      <td>115.000</td>\n",
       "      <td>1</td>\n",
       "      <td>2</td>\n",
       "      <td>False</td>\n",
       "      <td>True</td>\n",
       "      <td>1</td>\n",
       "      <td>EWR</td>\n",
       "    </tr>\n",
       "    <tr>\n",
       "      <th>1</th>\n",
       "      <td>1</td>\n",
       "      <td>2025-01-01</td>\n",
       "      <td>1</td>\n",
       "      <td>1</td>\n",
       "      <td>9</td>\n",
       "      <td>0.000000</td>\n",
       "      <td>132.510</td>\n",
       "      <td>4</td>\n",
       "      <td>2</td>\n",
       "      <td>False</td>\n",
       "      <td>True</td>\n",
       "      <td>1</td>\n",
       "      <td>EWR</td>\n",
       "    </tr>\n",
       "    <tr>\n",
       "      <th>2</th>\n",
       "      <td>1</td>\n",
       "      <td>2025-01-01</td>\n",
       "      <td>1</td>\n",
       "      <td>1</td>\n",
       "      <td>12</td>\n",
       "      <td>0.000000</td>\n",
       "      <td>106.200</td>\n",
       "      <td>2</td>\n",
       "      <td>2</td>\n",
       "      <td>False</td>\n",
       "      <td>True</td>\n",
       "      <td>1</td>\n",
       "      <td>EWR</td>\n",
       "    </tr>\n",
       "    <tr>\n",
       "      <th>3</th>\n",
       "      <td>1</td>\n",
       "      <td>2025-01-01</td>\n",
       "      <td>1</td>\n",
       "      <td>1</td>\n",
       "      <td>13</td>\n",
       "      <td>1.333333</td>\n",
       "      <td>56.400</td>\n",
       "      <td>3</td>\n",
       "      <td>2</td>\n",
       "      <td>False</td>\n",
       "      <td>True</td>\n",
       "      <td>1</td>\n",
       "      <td>EWR</td>\n",
       "    </tr>\n",
       "    <tr>\n",
       "      <th>4</th>\n",
       "      <td>1</td>\n",
       "      <td>2025-01-01</td>\n",
       "      <td>1</td>\n",
       "      <td>1</td>\n",
       "      <td>14</td>\n",
       "      <td>2.160000</td>\n",
       "      <td>70.205</td>\n",
       "      <td>2</td>\n",
       "      <td>2</td>\n",
       "      <td>False</td>\n",
       "      <td>True</td>\n",
       "      <td>1</td>\n",
       "      <td>EWR</td>\n",
       "    </tr>\n",
       "  </tbody>\n",
       "</table>\n",
       "</div>"
      ],
      "text/plain": [
       "  PULocationID transaction_date  transaction_month  transaction_day  \\\n",
       "0            1       2025-01-01                  1                1   \n",
       "1            1       2025-01-01                  1                1   \n",
       "2            1       2025-01-01                  1                1   \n",
       "3            1       2025-01-01                  1                1   \n",
       "4            1       2025-01-01                  1                1   \n",
       "\n",
       "   transaction_hour  trip_distance  total_amount  count_of_transactions  \\\n",
       "0                 6       0.100000       115.000                      1   \n",
       "1                 9       0.000000       132.510                      4   \n",
       "2                12       0.000000       106.200                      2   \n",
       "3                13       1.333333        56.400                      3   \n",
       "4                14       2.160000        70.205                      2   \n",
       "\n",
       "   transaction_week_day  weekend  is_holiday LocationID Borough  \n",
       "0                     2    False        True          1     EWR  \n",
       "1                     2    False        True          1     EWR  \n",
       "2                     2    False        True          1     EWR  \n",
       "3                     2    False        True          1     EWR  \n",
       "4                     2    False        True          1     EWR  "
      ]
     },
     "execution_count": 283,
     "metadata": {},
     "output_type": "execute_result"
    }
   ],
   "source": [
    "data_with_new_features.head()"
   ]
  },
  {
   "cell_type": "code",
   "execution_count": 284,
   "id": "c9493e69-bf92-440a-8aef-1da2161c6cfd",
   "metadata": {},
   "outputs": [
    {
     "name": "stdout",
     "output_type": "stream",
     "text": [
      "(96626, 22)\n"
     ]
    },
    {
     "data": {
      "text/html": [
       "<div>\n",
       "<style scoped>\n",
       "    .dataframe tbody tr th:only-of-type {\n",
       "        vertical-align: middle;\n",
       "    }\n",
       "\n",
       "    .dataframe tbody tr th {\n",
       "        vertical-align: top;\n",
       "    }\n",
       "\n",
       "    .dataframe thead th {\n",
       "        text-align: right;\n",
       "    }\n",
       "</style>\n",
       "<table border=\"1\" class=\"dataframe\">\n",
       "  <thead>\n",
       "    <tr style=\"text-align: right;\">\n",
       "      <th></th>\n",
       "      <th>PULocationID</th>\n",
       "      <th>transaction_date</th>\n",
       "      <th>transaction_month</th>\n",
       "      <th>transaction_day</th>\n",
       "      <th>transaction_hour</th>\n",
       "      <th>trip_distance</th>\n",
       "      <th>total_amount</th>\n",
       "      <th>count_of_transactions</th>\n",
       "      <th>transaction_week_day</th>\n",
       "      <th>weekend</th>\n",
       "      <th>...</th>\n",
       "      <th>Borough</th>\n",
       "      <th>weather_datetime</th>\n",
       "      <th>temperature</th>\n",
       "      <th>humidity</th>\n",
       "      <th>amount_of_precipitation</th>\n",
       "      <th>wind_speed</th>\n",
       "      <th>cloud_cover</th>\n",
       "      <th>hour</th>\n",
       "      <th>month</th>\n",
       "      <th>day</th>\n",
       "    </tr>\n",
       "  </thead>\n",
       "  <tbody>\n",
       "    <tr>\n",
       "      <th>0</th>\n",
       "      <td>1</td>\n",
       "      <td>2025-01-01</td>\n",
       "      <td>1</td>\n",
       "      <td>1</td>\n",
       "      <td>6</td>\n",
       "      <td>0.100000</td>\n",
       "      <td>115.000</td>\n",
       "      <td>1</td>\n",
       "      <td>2</td>\n",
       "      <td>False</td>\n",
       "      <td>...</td>\n",
       "      <td>EWR</td>\n",
       "      <td>2025-01-01 06:00:00</td>\n",
       "      <td>8.3</td>\n",
       "      <td>98.0</td>\n",
       "      <td>0.0</td>\n",
       "      <td>14.8</td>\n",
       "      <td>3.0</td>\n",
       "      <td>6.0</td>\n",
       "      <td>1.0</td>\n",
       "      <td>1.0</td>\n",
       "    </tr>\n",
       "    <tr>\n",
       "      <th>1</th>\n",
       "      <td>1</td>\n",
       "      <td>2025-01-01</td>\n",
       "      <td>1</td>\n",
       "      <td>1</td>\n",
       "      <td>9</td>\n",
       "      <td>0.000000</td>\n",
       "      <td>132.510</td>\n",
       "      <td>4</td>\n",
       "      <td>2</td>\n",
       "      <td>False</td>\n",
       "      <td>...</td>\n",
       "      <td>EWR</td>\n",
       "      <td>2025-01-01 09:00:00</td>\n",
       "      <td>8.4</td>\n",
       "      <td>98.0</td>\n",
       "      <td>0.0</td>\n",
       "      <td>11.2</td>\n",
       "      <td>3.0</td>\n",
       "      <td>9.0</td>\n",
       "      <td>1.0</td>\n",
       "      <td>1.0</td>\n",
       "    </tr>\n",
       "    <tr>\n",
       "      <th>2</th>\n",
       "      <td>1</td>\n",
       "      <td>2025-01-01</td>\n",
       "      <td>1</td>\n",
       "      <td>1</td>\n",
       "      <td>12</td>\n",
       "      <td>0.000000</td>\n",
       "      <td>106.200</td>\n",
       "      <td>2</td>\n",
       "      <td>2</td>\n",
       "      <td>False</td>\n",
       "      <td>...</td>\n",
       "      <td>EWR</td>\n",
       "      <td>2025-01-01 12:00:00</td>\n",
       "      <td>5.8</td>\n",
       "      <td>96.0</td>\n",
       "      <td>0.0</td>\n",
       "      <td>13.0</td>\n",
       "      <td>1.0</td>\n",
       "      <td>12.0</td>\n",
       "      <td>1.0</td>\n",
       "      <td>1.0</td>\n",
       "    </tr>\n",
       "    <tr>\n",
       "      <th>3</th>\n",
       "      <td>1</td>\n",
       "      <td>2025-01-01</td>\n",
       "      <td>1</td>\n",
       "      <td>1</td>\n",
       "      <td>13</td>\n",
       "      <td>1.333333</td>\n",
       "      <td>56.400</td>\n",
       "      <td>3</td>\n",
       "      <td>2</td>\n",
       "      <td>False</td>\n",
       "      <td>...</td>\n",
       "      <td>EWR</td>\n",
       "      <td>2025-01-01 13:00:00</td>\n",
       "      <td>5.7</td>\n",
       "      <td>95.0</td>\n",
       "      <td>0.0</td>\n",
       "      <td>14.8</td>\n",
       "      <td>1.0</td>\n",
       "      <td>13.0</td>\n",
       "      <td>1.0</td>\n",
       "      <td>1.0</td>\n",
       "    </tr>\n",
       "    <tr>\n",
       "      <th>4</th>\n",
       "      <td>1</td>\n",
       "      <td>2025-01-01</td>\n",
       "      <td>1</td>\n",
       "      <td>1</td>\n",
       "      <td>14</td>\n",
       "      <td>2.160000</td>\n",
       "      <td>70.205</td>\n",
       "      <td>2</td>\n",
       "      <td>2</td>\n",
       "      <td>False</td>\n",
       "      <td>...</td>\n",
       "      <td>EWR</td>\n",
       "      <td>2025-01-01 14:00:00</td>\n",
       "      <td>7.0</td>\n",
       "      <td>91.0</td>\n",
       "      <td>0.0</td>\n",
       "      <td>18.4</td>\n",
       "      <td>1.0</td>\n",
       "      <td>14.0</td>\n",
       "      <td>1.0</td>\n",
       "      <td>1.0</td>\n",
       "    </tr>\n",
       "  </tbody>\n",
       "</table>\n",
       "<p>5 rows × 22 columns</p>\n",
       "</div>"
      ],
      "text/plain": [
       "  PULocationID transaction_date  transaction_month  transaction_day  \\\n",
       "0            1       2025-01-01                  1                1   \n",
       "1            1       2025-01-01                  1                1   \n",
       "2            1       2025-01-01                  1                1   \n",
       "3            1       2025-01-01                  1                1   \n",
       "4            1       2025-01-01                  1                1   \n",
       "\n",
       "   transaction_hour  trip_distance  total_amount  count_of_transactions  \\\n",
       "0                 6       0.100000       115.000                      1   \n",
       "1                 9       0.000000       132.510                      4   \n",
       "2                12       0.000000       106.200                      2   \n",
       "3                13       1.333333        56.400                      3   \n",
       "4                14       2.160000        70.205                      2   \n",
       "\n",
       "   transaction_week_day  weekend  ...  Borough    weather_datetime  \\\n",
       "0                     2    False  ...      EWR 2025-01-01 06:00:00   \n",
       "1                     2    False  ...      EWR 2025-01-01 09:00:00   \n",
       "2                     2    False  ...      EWR 2025-01-01 12:00:00   \n",
       "3                     2    False  ...      EWR 2025-01-01 13:00:00   \n",
       "4                     2    False  ...      EWR 2025-01-01 14:00:00   \n",
       "\n",
       "  temperature humidity  amount_of_precipitation  wind_speed  cloud_cover  \\\n",
       "0         8.3     98.0                      0.0        14.8          3.0   \n",
       "1         8.4     98.0                      0.0        11.2          3.0   \n",
       "2         5.8     96.0                      0.0        13.0          1.0   \n",
       "3         5.7     95.0                      0.0        14.8          1.0   \n",
       "4         7.0     91.0                      0.0        18.4          1.0   \n",
       "\n",
       "   hour  month  day  \n",
       "0   6.0    1.0  1.0  \n",
       "1   9.0    1.0  1.0  \n",
       "2  12.0    1.0  1.0  \n",
       "3  13.0    1.0  1.0  \n",
       "4  14.0    1.0  1.0  \n",
       "\n",
       "[5 rows x 22 columns]"
      ]
     },
     "execution_count": 284,
     "metadata": {},
     "output_type": "execute_result"
    }
   ],
   "source": [
    "nyc_taxi_with_weather = data_with_new_features.merge(nyc_weather, left_on = ['transaction_month','transaction_day','transaction_hour'], right_on = ['month','day','hour'], how='left')\n",
    "\n",
    "print(nyc_taxi_with_weather.shape)\n",
    "nyc_taxi_with_weather.head()"
   ]
  },
  {
   "cell_type": "code",
   "execution_count": 285,
   "id": "8bf5e27e-82f7-4587-ab74-ba4308876350",
   "metadata": {},
   "outputs": [],
   "source": [
    "nyc_taxi_with_weather = nyc_taxi_with_weather.drop(['weather_datetime','hour','month','day'], axis=1)"
   ]
  },
  {
   "cell_type": "code",
   "execution_count": 286,
   "id": "282b82cd-1679-4b5d-be23-8330254c9b5a",
   "metadata": {},
   "outputs": [
    {
     "data": {
      "text/html": [
       "<div>\n",
       "<style scoped>\n",
       "    .dataframe tbody tr th:only-of-type {\n",
       "        vertical-align: middle;\n",
       "    }\n",
       "\n",
       "    .dataframe tbody tr th {\n",
       "        vertical-align: top;\n",
       "    }\n",
       "\n",
       "    .dataframe thead th {\n",
       "        text-align: right;\n",
       "    }\n",
       "</style>\n",
       "<table border=\"1\" class=\"dataframe\">\n",
       "  <thead>\n",
       "    <tr style=\"text-align: right;\">\n",
       "      <th></th>\n",
       "      <th>PULocationID</th>\n",
       "      <th>transaction_date</th>\n",
       "      <th>transaction_month</th>\n",
       "      <th>transaction_day</th>\n",
       "      <th>transaction_hour</th>\n",
       "      <th>trip_distance</th>\n",
       "      <th>total_amount</th>\n",
       "      <th>count_of_transactions</th>\n",
       "      <th>transaction_week_day</th>\n",
       "      <th>weekend</th>\n",
       "      <th>is_holiday</th>\n",
       "      <th>LocationID</th>\n",
       "      <th>Borough</th>\n",
       "      <th>temperature</th>\n",
       "      <th>humidity</th>\n",
       "      <th>amount_of_precipitation</th>\n",
       "      <th>wind_speed</th>\n",
       "      <th>cloud_cover</th>\n",
       "    </tr>\n",
       "  </thead>\n",
       "  <tbody>\n",
       "    <tr>\n",
       "      <th>0</th>\n",
       "      <td>1</td>\n",
       "      <td>2025-01-01</td>\n",
       "      <td>1</td>\n",
       "      <td>1</td>\n",
       "      <td>6</td>\n",
       "      <td>0.100000</td>\n",
       "      <td>115.000</td>\n",
       "      <td>1</td>\n",
       "      <td>2</td>\n",
       "      <td>False</td>\n",
       "      <td>True</td>\n",
       "      <td>1</td>\n",
       "      <td>EWR</td>\n",
       "      <td>8.3</td>\n",
       "      <td>98.0</td>\n",
       "      <td>0.0</td>\n",
       "      <td>14.8</td>\n",
       "      <td>3.0</td>\n",
       "    </tr>\n",
       "    <tr>\n",
       "      <th>1</th>\n",
       "      <td>1</td>\n",
       "      <td>2025-01-01</td>\n",
       "      <td>1</td>\n",
       "      <td>1</td>\n",
       "      <td>9</td>\n",
       "      <td>0.000000</td>\n",
       "      <td>132.510</td>\n",
       "      <td>4</td>\n",
       "      <td>2</td>\n",
       "      <td>False</td>\n",
       "      <td>True</td>\n",
       "      <td>1</td>\n",
       "      <td>EWR</td>\n",
       "      <td>8.4</td>\n",
       "      <td>98.0</td>\n",
       "      <td>0.0</td>\n",
       "      <td>11.2</td>\n",
       "      <td>3.0</td>\n",
       "    </tr>\n",
       "    <tr>\n",
       "      <th>2</th>\n",
       "      <td>1</td>\n",
       "      <td>2025-01-01</td>\n",
       "      <td>1</td>\n",
       "      <td>1</td>\n",
       "      <td>12</td>\n",
       "      <td>0.000000</td>\n",
       "      <td>106.200</td>\n",
       "      <td>2</td>\n",
       "      <td>2</td>\n",
       "      <td>False</td>\n",
       "      <td>True</td>\n",
       "      <td>1</td>\n",
       "      <td>EWR</td>\n",
       "      <td>5.8</td>\n",
       "      <td>96.0</td>\n",
       "      <td>0.0</td>\n",
       "      <td>13.0</td>\n",
       "      <td>1.0</td>\n",
       "    </tr>\n",
       "    <tr>\n",
       "      <th>3</th>\n",
       "      <td>1</td>\n",
       "      <td>2025-01-01</td>\n",
       "      <td>1</td>\n",
       "      <td>1</td>\n",
       "      <td>13</td>\n",
       "      <td>1.333333</td>\n",
       "      <td>56.400</td>\n",
       "      <td>3</td>\n",
       "      <td>2</td>\n",
       "      <td>False</td>\n",
       "      <td>True</td>\n",
       "      <td>1</td>\n",
       "      <td>EWR</td>\n",
       "      <td>5.7</td>\n",
       "      <td>95.0</td>\n",
       "      <td>0.0</td>\n",
       "      <td>14.8</td>\n",
       "      <td>1.0</td>\n",
       "    </tr>\n",
       "    <tr>\n",
       "      <th>4</th>\n",
       "      <td>1</td>\n",
       "      <td>2025-01-01</td>\n",
       "      <td>1</td>\n",
       "      <td>1</td>\n",
       "      <td>14</td>\n",
       "      <td>2.160000</td>\n",
       "      <td>70.205</td>\n",
       "      <td>2</td>\n",
       "      <td>2</td>\n",
       "      <td>False</td>\n",
       "      <td>True</td>\n",
       "      <td>1</td>\n",
       "      <td>EWR</td>\n",
       "      <td>7.0</td>\n",
       "      <td>91.0</td>\n",
       "      <td>0.0</td>\n",
       "      <td>18.4</td>\n",
       "      <td>1.0</td>\n",
       "    </tr>\n",
       "  </tbody>\n",
       "</table>\n",
       "</div>"
      ],
      "text/plain": [
       "  PULocationID transaction_date  transaction_month  transaction_day  \\\n",
       "0            1       2025-01-01                  1                1   \n",
       "1            1       2025-01-01                  1                1   \n",
       "2            1       2025-01-01                  1                1   \n",
       "3            1       2025-01-01                  1                1   \n",
       "4            1       2025-01-01                  1                1   \n",
       "\n",
       "   transaction_hour  trip_distance  total_amount  count_of_transactions  \\\n",
       "0                 6       0.100000       115.000                      1   \n",
       "1                 9       0.000000       132.510                      4   \n",
       "2                12       0.000000       106.200                      2   \n",
       "3                13       1.333333        56.400                      3   \n",
       "4                14       2.160000        70.205                      2   \n",
       "\n",
       "   transaction_week_day  weekend  is_holiday LocationID Borough  temperature  \\\n",
       "0                     2    False        True          1     EWR          8.3   \n",
       "1                     2    False        True          1     EWR          8.4   \n",
       "2                     2    False        True          1     EWR          5.8   \n",
       "3                     2    False        True          1     EWR          5.7   \n",
       "4                     2    False        True          1     EWR          7.0   \n",
       "\n",
       "   humidity  amount_of_precipitation  wind_speed  cloud_cover  \n",
       "0      98.0                      0.0        14.8          3.0  \n",
       "1      98.0                      0.0        11.2          3.0  \n",
       "2      96.0                      0.0        13.0          1.0  \n",
       "3      95.0                      0.0        14.8          1.0  \n",
       "4      91.0                      0.0        18.4          1.0  "
      ]
     },
     "execution_count": 286,
     "metadata": {},
     "output_type": "execute_result"
    }
   ],
   "source": [
    "nyc_taxi_with_weather.head()"
   ]
  },
  {
   "cell_type": "code",
   "execution_count": 287,
   "id": "4df395d1-ada3-4358-a3c0-921dc39a98bb",
   "metadata": {},
   "outputs": [
    {
     "data": {
      "text/plain": [
       "PULocationID                  0\n",
       "transaction_date              0\n",
       "transaction_month             0\n",
       "transaction_day               0\n",
       "transaction_hour              0\n",
       "trip_distance                 0\n",
       "total_amount                  0\n",
       "count_of_transactions         0\n",
       "transaction_week_day          0\n",
       "weekend                       0\n",
       "is_holiday                    0\n",
       "LocationID                    0\n",
       "Borough                       0\n",
       "temperature                3434\n",
       "humidity                   3434\n",
       "amount_of_precipitation    3434\n",
       "wind_speed                 3434\n",
       "cloud_cover                3434\n",
       "dtype: int64"
      ]
     },
     "execution_count": 287,
     "metadata": {},
     "output_type": "execute_result"
    }
   ],
   "source": [
    "nyc_taxi_with_weather.isna().sum()"
   ]
  },
  {
   "cell_type": "code",
   "execution_count": 288,
   "id": "ab60b927-640c-42a3-8d56-8e0fc7ac6b33",
   "metadata": {},
   "outputs": [],
   "source": [
    "nyc_taxi_with_weather = nyc_taxi_with_weather.sort_values(['transaction_date','transaction_hour']).reset_index().drop('index',axis=1)"
   ]
  },
  {
   "cell_type": "code",
   "execution_count": 291,
   "id": "a7693468-d785-4b89-956d-30d7302bc4b5",
   "metadata": {},
   "outputs": [
    {
     "name": "stderr",
     "output_type": "stream",
     "text": [
      "FutureWarning: DataFrame.interpolate with object dtype is deprecated and will raise in a future version. Call obj.infer_objects(copy=False) before interpolating instead.\n"
     ]
    },
    {
     "data": {
      "text/plain": [
       "PULocationID               0\n",
       "transaction_date           0\n",
       "transaction_month          0\n",
       "transaction_day            0\n",
       "transaction_hour           0\n",
       "trip_distance              0\n",
       "total_amount               0\n",
       "count_of_transactions      0\n",
       "transaction_week_day       0\n",
       "weekend                    0\n",
       "is_holiday                 0\n",
       "LocationID                 0\n",
       "Borough                    0\n",
       "temperature                0\n",
       "humidity                   0\n",
       "amount_of_precipitation    0\n",
       "wind_speed                 0\n",
       "cloud_cover                0\n",
       "dtype: int64"
      ]
     },
     "execution_count": 291,
     "metadata": {},
     "output_type": "execute_result"
    }
   ],
   "source": [
    "nyc_taxi_with_weather = nyc_taxi_with_weather.infer_objects(copy=False)\n",
    "nyc_taxi_with_weather = nyc_taxi_with_weather.interpolate()\n",
    "nyc_taxi_with_weather = nyc_taxi_with_weather.bfill()\n",
    "\n",
    "nyc_taxi_with_weather.isna().sum()"
   ]
  },
  {
   "cell_type": "code",
   "execution_count": 292,
   "id": "7fe2d566-7e45-4a7a-bf91-52488afb925e",
   "metadata": {},
   "outputs": [
    {
     "data": {
      "text/html": [
       "<div>\n",
       "<style scoped>\n",
       "    .dataframe tbody tr th:only-of-type {\n",
       "        vertical-align: middle;\n",
       "    }\n",
       "\n",
       "    .dataframe tbody tr th {\n",
       "        vertical-align: top;\n",
       "    }\n",
       "\n",
       "    .dataframe thead th {\n",
       "        text-align: right;\n",
       "    }\n",
       "</style>\n",
       "<table border=\"1\" class=\"dataframe\">\n",
       "  <thead>\n",
       "    <tr style=\"text-align: right;\">\n",
       "      <th></th>\n",
       "      <th>PULocationID</th>\n",
       "      <th>transaction_date</th>\n",
       "      <th>transaction_month</th>\n",
       "      <th>transaction_day</th>\n",
       "      <th>transaction_hour</th>\n",
       "      <th>trip_distance</th>\n",
       "      <th>total_amount</th>\n",
       "      <th>count_of_transactions</th>\n",
       "      <th>transaction_week_day</th>\n",
       "      <th>weekend</th>\n",
       "      <th>is_holiday</th>\n",
       "      <th>LocationID</th>\n",
       "      <th>Borough</th>\n",
       "      <th>temperature</th>\n",
       "      <th>humidity</th>\n",
       "      <th>amount_of_precipitation</th>\n",
       "      <th>wind_speed</th>\n",
       "      <th>cloud_cover</th>\n",
       "    </tr>\n",
       "  </thead>\n",
       "  <tbody>\n",
       "    <tr>\n",
       "      <th>0</th>\n",
       "      <td>10</td>\n",
       "      <td>2025-01-01</td>\n",
       "      <td>1</td>\n",
       "      <td>1</td>\n",
       "      <td>0</td>\n",
       "      <td>11.400000</td>\n",
       "      <td>37.220000</td>\n",
       "      <td>1</td>\n",
       "      <td>2</td>\n",
       "      <td>False</td>\n",
       "      <td>True</td>\n",
       "      <td>10</td>\n",
       "      <td>Queens</td>\n",
       "      <td>9.0</td>\n",
       "      <td>74.0</td>\n",
       "      <td>0.0</td>\n",
       "      <td>28.0</td>\n",
       "      <td>3.0</td>\n",
       "    </tr>\n",
       "    <tr>\n",
       "      <th>1</th>\n",
       "      <td>100</td>\n",
       "      <td>2025-01-01</td>\n",
       "      <td>1</td>\n",
       "      <td>1</td>\n",
       "      <td>0</td>\n",
       "      <td>4.239000</td>\n",
       "      <td>46.289000</td>\n",
       "      <td>10</td>\n",
       "      <td>2</td>\n",
       "      <td>False</td>\n",
       "      <td>True</td>\n",
       "      <td>100</td>\n",
       "      <td>Manhattan</td>\n",
       "      <td>9.0</td>\n",
       "      <td>74.0</td>\n",
       "      <td>0.0</td>\n",
       "      <td>28.0</td>\n",
       "      <td>3.0</td>\n",
       "    </tr>\n",
       "    <tr>\n",
       "      <th>2</th>\n",
       "      <td>106</td>\n",
       "      <td>2025-01-01</td>\n",
       "      <td>1</td>\n",
       "      <td>1</td>\n",
       "      <td>0</td>\n",
       "      <td>5.663333</td>\n",
       "      <td>34.806667</td>\n",
       "      <td>3</td>\n",
       "      <td>2</td>\n",
       "      <td>False</td>\n",
       "      <td>True</td>\n",
       "      <td>106</td>\n",
       "      <td>Brooklyn</td>\n",
       "      <td>9.0</td>\n",
       "      <td>74.0</td>\n",
       "      <td>0.0</td>\n",
       "      <td>28.0</td>\n",
       "      <td>3.0</td>\n",
       "    </tr>\n",
       "    <tr>\n",
       "      <th>3</th>\n",
       "      <td>107</td>\n",
       "      <td>2025-01-01</td>\n",
       "      <td>1</td>\n",
       "      <td>1</td>\n",
       "      <td>0</td>\n",
       "      <td>2.718710</td>\n",
       "      <td>25.030538</td>\n",
       "      <td>186</td>\n",
       "      <td>2</td>\n",
       "      <td>False</td>\n",
       "      <td>True</td>\n",
       "      <td>107</td>\n",
       "      <td>Manhattan</td>\n",
       "      <td>9.0</td>\n",
       "      <td>74.0</td>\n",
       "      <td>0.0</td>\n",
       "      <td>28.0</td>\n",
       "      <td>3.0</td>\n",
       "    </tr>\n",
       "    <tr>\n",
       "      <th>4</th>\n",
       "      <td>112</td>\n",
       "      <td>2025-01-01</td>\n",
       "      <td>1</td>\n",
       "      <td>1</td>\n",
       "      <td>0</td>\n",
       "      <td>4.761538</td>\n",
       "      <td>31.450000</td>\n",
       "      <td>13</td>\n",
       "      <td>2</td>\n",
       "      <td>False</td>\n",
       "      <td>True</td>\n",
       "      <td>112</td>\n",
       "      <td>Brooklyn</td>\n",
       "      <td>9.0</td>\n",
       "      <td>74.0</td>\n",
       "      <td>0.0</td>\n",
       "      <td>28.0</td>\n",
       "      <td>3.0</td>\n",
       "    </tr>\n",
       "  </tbody>\n",
       "</table>\n",
       "</div>"
      ],
      "text/plain": [
       "  PULocationID transaction_date  transaction_month  transaction_day  \\\n",
       "0           10       2025-01-01                  1                1   \n",
       "1          100       2025-01-01                  1                1   \n",
       "2          106       2025-01-01                  1                1   \n",
       "3          107       2025-01-01                  1                1   \n",
       "4          112       2025-01-01                  1                1   \n",
       "\n",
       "   transaction_hour  trip_distance  total_amount  count_of_transactions  \\\n",
       "0                 0      11.400000     37.220000                      1   \n",
       "1                 0       4.239000     46.289000                     10   \n",
       "2                 0       5.663333     34.806667                      3   \n",
       "3                 0       2.718710     25.030538                    186   \n",
       "4                 0       4.761538     31.450000                     13   \n",
       "\n",
       "   transaction_week_day  weekend  is_holiday LocationID    Borough  \\\n",
       "0                     2    False        True         10     Queens   \n",
       "1                     2    False        True        100  Manhattan   \n",
       "2                     2    False        True        106   Brooklyn   \n",
       "3                     2    False        True        107  Manhattan   \n",
       "4                     2    False        True        112   Brooklyn   \n",
       "\n",
       "   temperature  humidity  amount_of_precipitation  wind_speed  cloud_cover  \n",
       "0          9.0      74.0                      0.0        28.0          3.0  \n",
       "1          9.0      74.0                      0.0        28.0          3.0  \n",
       "2          9.0      74.0                      0.0        28.0          3.0  \n",
       "3          9.0      74.0                      0.0        28.0          3.0  \n",
       "4          9.0      74.0                      0.0        28.0          3.0  "
      ]
     },
     "execution_count": 292,
     "metadata": {},
     "output_type": "execute_result"
    }
   ],
   "source": [
    "nyc_taxi_with_weather.head()"
   ]
  },
  {
   "cell_type": "markdown",
   "id": "ae7a8132-e59b-4789-8e47-027d0ae47951",
   "metadata": {},
   "source": [
    "## 7. Model Training <a id='model_training'></a>\n",
    "[Back to top](#structure_of_project)"
   ]
  },
  {
   "cell_type": "code",
   "execution_count": 293,
   "id": "9cb09f53-4375-48d3-83b3-32ff4adfa5eb",
   "metadata": {},
   "outputs": [
    {
     "name": "stdout",
     "output_type": "stream",
     "text": [
      "The history saving thread hit an unexpected error (OperationalError('attempt to write a readonly database')).History will not be written to the database.\n"
     ]
    }
   ],
   "source": [
    "data_for_model = nyc_taxi_with_weather.copy()"
   ]
  },
  {
   "cell_type": "code",
   "execution_count": 298,
   "id": "28421d2a-89f5-4b0e-b091-ab9fbd73ea5d",
   "metadata": {},
   "outputs": [],
   "source": [
    "categorical_features = ['PULocationID', 'transaction_month', 'transaction_day',\n",
    "       'transaction_hour', 'transaction_week_day', 'weekend', 'is_holiday', 'Borough']\n",
    "input_features = categorical_features + ['temperature', 'humidity', 'wind_speed', 'cloud_cover',\n",
    "       'amount_of_precipitation']\n",
    "target_feature = 'total_amount'"
   ]
  },
  {
   "cell_type": "code",
   "execution_count": 299,
   "id": "231cd407-4ffb-44fe-b89b-bde8f17179d2",
   "metadata": {},
   "outputs": [],
   "source": [
    "X = data_for_model[input_features]\n",
    "y = data_for_model[target_feature]\n",
    "\n",
    "# one-hot encode\n",
    "X = pd.get_dummies(X)\n",
    "\n",
    "X_train, X_test, y_train, y_test = train_test_split(X, y, test_size=0.33, random_state=42)"
   ]
  },
  {
   "cell_type": "markdown",
   "id": "f4a25dac-ea56-4aa6-b644-df78c2d139f8",
   "metadata": {},
   "source": [
    "### 7.1 Desicion tree <a id='decision_tree'></a>"
   ]
  },
  {
   "cell_type": "code",
   "execution_count": 300,
   "id": "03d0f668-7496-4155-ae29-cc8874ca8c13",
   "metadata": {},
   "outputs": [
    {
     "data": {
      "text/html": [
       "<style>#sk-container-id-4 {\n",
       "  /* Definition of color scheme common for light and dark mode */\n",
       "  --sklearn-color-text: #000;\n",
       "  --sklearn-color-text-muted: #666;\n",
       "  --sklearn-color-line: gray;\n",
       "  /* Definition of color scheme for unfitted estimators */\n",
       "  --sklearn-color-unfitted-level-0: #fff5e6;\n",
       "  --sklearn-color-unfitted-level-1: #f6e4d2;\n",
       "  --sklearn-color-unfitted-level-2: #ffe0b3;\n",
       "  --sklearn-color-unfitted-level-3: chocolate;\n",
       "  /* Definition of color scheme for fitted estimators */\n",
       "  --sklearn-color-fitted-level-0: #f0f8ff;\n",
       "  --sklearn-color-fitted-level-1: #d4ebff;\n",
       "  --sklearn-color-fitted-level-2: #b3dbfd;\n",
       "  --sklearn-color-fitted-level-3: cornflowerblue;\n",
       "\n",
       "  /* Specific color for light theme */\n",
       "  --sklearn-color-text-on-default-background: var(--sg-text-color, var(--theme-code-foreground, var(--jp-content-font-color1, black)));\n",
       "  --sklearn-color-background: var(--sg-background-color, var(--theme-background, var(--jp-layout-color0, white)));\n",
       "  --sklearn-color-border-box: var(--sg-text-color, var(--theme-code-foreground, var(--jp-content-font-color1, black)));\n",
       "  --sklearn-color-icon: #696969;\n",
       "\n",
       "  @media (prefers-color-scheme: dark) {\n",
       "    /* Redefinition of color scheme for dark theme */\n",
       "    --sklearn-color-text-on-default-background: var(--sg-text-color, var(--theme-code-foreground, var(--jp-content-font-color1, white)));\n",
       "    --sklearn-color-background: var(--sg-background-color, var(--theme-background, var(--jp-layout-color0, #111)));\n",
       "    --sklearn-color-border-box: var(--sg-text-color, var(--theme-code-foreground, var(--jp-content-font-color1, white)));\n",
       "    --sklearn-color-icon: #878787;\n",
       "  }\n",
       "}\n",
       "\n",
       "#sk-container-id-4 {\n",
       "  color: var(--sklearn-color-text);\n",
       "}\n",
       "\n",
       "#sk-container-id-4 pre {\n",
       "  padding: 0;\n",
       "}\n",
       "\n",
       "#sk-container-id-4 input.sk-hidden--visually {\n",
       "  border: 0;\n",
       "  clip: rect(1px 1px 1px 1px);\n",
       "  clip: rect(1px, 1px, 1px, 1px);\n",
       "  height: 1px;\n",
       "  margin: -1px;\n",
       "  overflow: hidden;\n",
       "  padding: 0;\n",
       "  position: absolute;\n",
       "  width: 1px;\n",
       "}\n",
       "\n",
       "#sk-container-id-4 div.sk-dashed-wrapped {\n",
       "  border: 1px dashed var(--sklearn-color-line);\n",
       "  margin: 0 0.4em 0.5em 0.4em;\n",
       "  box-sizing: border-box;\n",
       "  padding-bottom: 0.4em;\n",
       "  background-color: var(--sklearn-color-background);\n",
       "}\n",
       "\n",
       "#sk-container-id-4 div.sk-container {\n",
       "  /* jupyter's `normalize.less` sets `[hidden] { display: none; }`\n",
       "     but bootstrap.min.css set `[hidden] { display: none !important; }`\n",
       "     so we also need the `!important` here to be able to override the\n",
       "     default hidden behavior on the sphinx rendered scikit-learn.org.\n",
       "     See: https://github.com/scikit-learn/scikit-learn/issues/21755 */\n",
       "  display: inline-block !important;\n",
       "  position: relative;\n",
       "}\n",
       "\n",
       "#sk-container-id-4 div.sk-text-repr-fallback {\n",
       "  display: none;\n",
       "}\n",
       "\n",
       "div.sk-parallel-item,\n",
       "div.sk-serial,\n",
       "div.sk-item {\n",
       "  /* draw centered vertical line to link estimators */\n",
       "  background-image: linear-gradient(var(--sklearn-color-text-on-default-background), var(--sklearn-color-text-on-default-background));\n",
       "  background-size: 2px 100%;\n",
       "  background-repeat: no-repeat;\n",
       "  background-position: center center;\n",
       "}\n",
       "\n",
       "/* Parallel-specific style estimator block */\n",
       "\n",
       "#sk-container-id-4 div.sk-parallel-item::after {\n",
       "  content: \"\";\n",
       "  width: 100%;\n",
       "  border-bottom: 2px solid var(--sklearn-color-text-on-default-background);\n",
       "  flex-grow: 1;\n",
       "}\n",
       "\n",
       "#sk-container-id-4 div.sk-parallel {\n",
       "  display: flex;\n",
       "  align-items: stretch;\n",
       "  justify-content: center;\n",
       "  background-color: var(--sklearn-color-background);\n",
       "  position: relative;\n",
       "}\n",
       "\n",
       "#sk-container-id-4 div.sk-parallel-item {\n",
       "  display: flex;\n",
       "  flex-direction: column;\n",
       "}\n",
       "\n",
       "#sk-container-id-4 div.sk-parallel-item:first-child::after {\n",
       "  align-self: flex-end;\n",
       "  width: 50%;\n",
       "}\n",
       "\n",
       "#sk-container-id-4 div.sk-parallel-item:last-child::after {\n",
       "  align-self: flex-start;\n",
       "  width: 50%;\n",
       "}\n",
       "\n",
       "#sk-container-id-4 div.sk-parallel-item:only-child::after {\n",
       "  width: 0;\n",
       "}\n",
       "\n",
       "/* Serial-specific style estimator block */\n",
       "\n",
       "#sk-container-id-4 div.sk-serial {\n",
       "  display: flex;\n",
       "  flex-direction: column;\n",
       "  align-items: center;\n",
       "  background-color: var(--sklearn-color-background);\n",
       "  padding-right: 1em;\n",
       "  padding-left: 1em;\n",
       "}\n",
       "\n",
       "\n",
       "/* Toggleable style: style used for estimator/Pipeline/ColumnTransformer box that is\n",
       "clickable and can be expanded/collapsed.\n",
       "- Pipeline and ColumnTransformer use this feature and define the default style\n",
       "- Estimators will overwrite some part of the style using the `sk-estimator` class\n",
       "*/\n",
       "\n",
       "/* Pipeline and ColumnTransformer style (default) */\n",
       "\n",
       "#sk-container-id-4 div.sk-toggleable {\n",
       "  /* Default theme specific background. It is overwritten whether we have a\n",
       "  specific estimator or a Pipeline/ColumnTransformer */\n",
       "  background-color: var(--sklearn-color-background);\n",
       "}\n",
       "\n",
       "/* Toggleable label */\n",
       "#sk-container-id-4 label.sk-toggleable__label {\n",
       "  cursor: pointer;\n",
       "  display: flex;\n",
       "  width: 100%;\n",
       "  margin-bottom: 0;\n",
       "  padding: 0.5em;\n",
       "  box-sizing: border-box;\n",
       "  text-align: center;\n",
       "  align-items: start;\n",
       "  justify-content: space-between;\n",
       "  gap: 0.5em;\n",
       "}\n",
       "\n",
       "#sk-container-id-4 label.sk-toggleable__label .caption {\n",
       "  font-size: 0.6rem;\n",
       "  font-weight: lighter;\n",
       "  color: var(--sklearn-color-text-muted);\n",
       "}\n",
       "\n",
       "#sk-container-id-4 label.sk-toggleable__label-arrow:before {\n",
       "  /* Arrow on the left of the label */\n",
       "  content: \"▸\";\n",
       "  float: left;\n",
       "  margin-right: 0.25em;\n",
       "  color: var(--sklearn-color-icon);\n",
       "}\n",
       "\n",
       "#sk-container-id-4 label.sk-toggleable__label-arrow:hover:before {\n",
       "  color: var(--sklearn-color-text);\n",
       "}\n",
       "\n",
       "/* Toggleable content - dropdown */\n",
       "\n",
       "#sk-container-id-4 div.sk-toggleable__content {\n",
       "  max-height: 0;\n",
       "  max-width: 0;\n",
       "  overflow: hidden;\n",
       "  text-align: left;\n",
       "  /* unfitted */\n",
       "  background-color: var(--sklearn-color-unfitted-level-0);\n",
       "}\n",
       "\n",
       "#sk-container-id-4 div.sk-toggleable__content.fitted {\n",
       "  /* fitted */\n",
       "  background-color: var(--sklearn-color-fitted-level-0);\n",
       "}\n",
       "\n",
       "#sk-container-id-4 div.sk-toggleable__content pre {\n",
       "  margin: 0.2em;\n",
       "  border-radius: 0.25em;\n",
       "  color: var(--sklearn-color-text);\n",
       "  /* unfitted */\n",
       "  background-color: var(--sklearn-color-unfitted-level-0);\n",
       "}\n",
       "\n",
       "#sk-container-id-4 div.sk-toggleable__content.fitted pre {\n",
       "  /* unfitted */\n",
       "  background-color: var(--sklearn-color-fitted-level-0);\n",
       "}\n",
       "\n",
       "#sk-container-id-4 input.sk-toggleable__control:checked~div.sk-toggleable__content {\n",
       "  /* Expand drop-down */\n",
       "  max-height: 200px;\n",
       "  max-width: 100%;\n",
       "  overflow: auto;\n",
       "}\n",
       "\n",
       "#sk-container-id-4 input.sk-toggleable__control:checked~label.sk-toggleable__label-arrow:before {\n",
       "  content: \"▾\";\n",
       "}\n",
       "\n",
       "/* Pipeline/ColumnTransformer-specific style */\n",
       "\n",
       "#sk-container-id-4 div.sk-label input.sk-toggleable__control:checked~label.sk-toggleable__label {\n",
       "  color: var(--sklearn-color-text);\n",
       "  background-color: var(--sklearn-color-unfitted-level-2);\n",
       "}\n",
       "\n",
       "#sk-container-id-4 div.sk-label.fitted input.sk-toggleable__control:checked~label.sk-toggleable__label {\n",
       "  background-color: var(--sklearn-color-fitted-level-2);\n",
       "}\n",
       "\n",
       "/* Estimator-specific style */\n",
       "\n",
       "/* Colorize estimator box */\n",
       "#sk-container-id-4 div.sk-estimator input.sk-toggleable__control:checked~label.sk-toggleable__label {\n",
       "  /* unfitted */\n",
       "  background-color: var(--sklearn-color-unfitted-level-2);\n",
       "}\n",
       "\n",
       "#sk-container-id-4 div.sk-estimator.fitted input.sk-toggleable__control:checked~label.sk-toggleable__label {\n",
       "  /* fitted */\n",
       "  background-color: var(--sklearn-color-fitted-level-2);\n",
       "}\n",
       "\n",
       "#sk-container-id-4 div.sk-label label.sk-toggleable__label,\n",
       "#sk-container-id-4 div.sk-label label {\n",
       "  /* The background is the default theme color */\n",
       "  color: var(--sklearn-color-text-on-default-background);\n",
       "}\n",
       "\n",
       "/* On hover, darken the color of the background */\n",
       "#sk-container-id-4 div.sk-label:hover label.sk-toggleable__label {\n",
       "  color: var(--sklearn-color-text);\n",
       "  background-color: var(--sklearn-color-unfitted-level-2);\n",
       "}\n",
       "\n",
       "/* Label box, darken color on hover, fitted */\n",
       "#sk-container-id-4 div.sk-label.fitted:hover label.sk-toggleable__label.fitted {\n",
       "  color: var(--sklearn-color-text);\n",
       "  background-color: var(--sklearn-color-fitted-level-2);\n",
       "}\n",
       "\n",
       "/* Estimator label */\n",
       "\n",
       "#sk-container-id-4 div.sk-label label {\n",
       "  font-family: monospace;\n",
       "  font-weight: bold;\n",
       "  display: inline-block;\n",
       "  line-height: 1.2em;\n",
       "}\n",
       "\n",
       "#sk-container-id-4 div.sk-label-container {\n",
       "  text-align: center;\n",
       "}\n",
       "\n",
       "/* Estimator-specific */\n",
       "#sk-container-id-4 div.sk-estimator {\n",
       "  font-family: monospace;\n",
       "  border: 1px dotted var(--sklearn-color-border-box);\n",
       "  border-radius: 0.25em;\n",
       "  box-sizing: border-box;\n",
       "  margin-bottom: 0.5em;\n",
       "  /* unfitted */\n",
       "  background-color: var(--sklearn-color-unfitted-level-0);\n",
       "}\n",
       "\n",
       "#sk-container-id-4 div.sk-estimator.fitted {\n",
       "  /* fitted */\n",
       "  background-color: var(--sklearn-color-fitted-level-0);\n",
       "}\n",
       "\n",
       "/* on hover */\n",
       "#sk-container-id-4 div.sk-estimator:hover {\n",
       "  /* unfitted */\n",
       "  background-color: var(--sklearn-color-unfitted-level-2);\n",
       "}\n",
       "\n",
       "#sk-container-id-4 div.sk-estimator.fitted:hover {\n",
       "  /* fitted */\n",
       "  background-color: var(--sklearn-color-fitted-level-2);\n",
       "}\n",
       "\n",
       "/* Specification for estimator info (e.g. \"i\" and \"?\") */\n",
       "\n",
       "/* Common style for \"i\" and \"?\" */\n",
       "\n",
       ".sk-estimator-doc-link,\n",
       "a:link.sk-estimator-doc-link,\n",
       "a:visited.sk-estimator-doc-link {\n",
       "  float: right;\n",
       "  font-size: smaller;\n",
       "  line-height: 1em;\n",
       "  font-family: monospace;\n",
       "  background-color: var(--sklearn-color-background);\n",
       "  border-radius: 1em;\n",
       "  height: 1em;\n",
       "  width: 1em;\n",
       "  text-decoration: none !important;\n",
       "  margin-left: 0.5em;\n",
       "  text-align: center;\n",
       "  /* unfitted */\n",
       "  border: var(--sklearn-color-unfitted-level-1) 1pt solid;\n",
       "  color: var(--sklearn-color-unfitted-level-1);\n",
       "}\n",
       "\n",
       ".sk-estimator-doc-link.fitted,\n",
       "a:link.sk-estimator-doc-link.fitted,\n",
       "a:visited.sk-estimator-doc-link.fitted {\n",
       "  /* fitted */\n",
       "  border: var(--sklearn-color-fitted-level-1) 1pt solid;\n",
       "  color: var(--sklearn-color-fitted-level-1);\n",
       "}\n",
       "\n",
       "/* On hover */\n",
       "div.sk-estimator:hover .sk-estimator-doc-link:hover,\n",
       ".sk-estimator-doc-link:hover,\n",
       "div.sk-label-container:hover .sk-estimator-doc-link:hover,\n",
       ".sk-estimator-doc-link:hover {\n",
       "  /* unfitted */\n",
       "  background-color: var(--sklearn-color-unfitted-level-3);\n",
       "  color: var(--sklearn-color-background);\n",
       "  text-decoration: none;\n",
       "}\n",
       "\n",
       "div.sk-estimator.fitted:hover .sk-estimator-doc-link.fitted:hover,\n",
       ".sk-estimator-doc-link.fitted:hover,\n",
       "div.sk-label-container:hover .sk-estimator-doc-link.fitted:hover,\n",
       ".sk-estimator-doc-link.fitted:hover {\n",
       "  /* fitted */\n",
       "  background-color: var(--sklearn-color-fitted-level-3);\n",
       "  color: var(--sklearn-color-background);\n",
       "  text-decoration: none;\n",
       "}\n",
       "\n",
       "/* Span, style for the box shown on hovering the info icon */\n",
       ".sk-estimator-doc-link span {\n",
       "  display: none;\n",
       "  z-index: 9999;\n",
       "  position: relative;\n",
       "  font-weight: normal;\n",
       "  right: .2ex;\n",
       "  padding: .5ex;\n",
       "  margin: .5ex;\n",
       "  width: min-content;\n",
       "  min-width: 20ex;\n",
       "  max-width: 50ex;\n",
       "  color: var(--sklearn-color-text);\n",
       "  box-shadow: 2pt 2pt 4pt #999;\n",
       "  /* unfitted */\n",
       "  background: var(--sklearn-color-unfitted-level-0);\n",
       "  border: .5pt solid var(--sklearn-color-unfitted-level-3);\n",
       "}\n",
       "\n",
       ".sk-estimator-doc-link.fitted span {\n",
       "  /* fitted */\n",
       "  background: var(--sklearn-color-fitted-level-0);\n",
       "  border: var(--sklearn-color-fitted-level-3);\n",
       "}\n",
       "\n",
       ".sk-estimator-doc-link:hover span {\n",
       "  display: block;\n",
       "}\n",
       "\n",
       "/* \"?\"-specific style due to the `<a>` HTML tag */\n",
       "\n",
       "#sk-container-id-4 a.estimator_doc_link {\n",
       "  float: right;\n",
       "  font-size: 1rem;\n",
       "  line-height: 1em;\n",
       "  font-family: monospace;\n",
       "  background-color: var(--sklearn-color-background);\n",
       "  border-radius: 1rem;\n",
       "  height: 1rem;\n",
       "  width: 1rem;\n",
       "  text-decoration: none;\n",
       "  /* unfitted */\n",
       "  color: var(--sklearn-color-unfitted-level-1);\n",
       "  border: var(--sklearn-color-unfitted-level-1) 1pt solid;\n",
       "}\n",
       "\n",
       "#sk-container-id-4 a.estimator_doc_link.fitted {\n",
       "  /* fitted */\n",
       "  border: var(--sklearn-color-fitted-level-1) 1pt solid;\n",
       "  color: var(--sklearn-color-fitted-level-1);\n",
       "}\n",
       "\n",
       "/* On hover */\n",
       "#sk-container-id-4 a.estimator_doc_link:hover {\n",
       "  /* unfitted */\n",
       "  background-color: var(--sklearn-color-unfitted-level-3);\n",
       "  color: var(--sklearn-color-background);\n",
       "  text-decoration: none;\n",
       "}\n",
       "\n",
       "#sk-container-id-4 a.estimator_doc_link.fitted:hover {\n",
       "  /* fitted */\n",
       "  background-color: var(--sklearn-color-fitted-level-3);\n",
       "}\n",
       "</style><div id=\"sk-container-id-4\" class=\"sk-top-container\"><div class=\"sk-text-repr-fallback\"><pre>DecisionTreeRegressor(max_depth=10)</pre><b>In a Jupyter environment, please rerun this cell to show the HTML representation or trust the notebook. <br />On GitHub, the HTML representation is unable to render, please try loading this page with nbviewer.org.</b></div><div class=\"sk-container\" hidden><div class=\"sk-item\"><div class=\"sk-estimator fitted sk-toggleable\"><input class=\"sk-toggleable__control sk-hidden--visually\" id=\"sk-estimator-id-4\" type=\"checkbox\" checked><label for=\"sk-estimator-id-4\" class=\"sk-toggleable__label fitted sk-toggleable__label-arrow\"><div><div>DecisionTreeRegressor</div></div><div><a class=\"sk-estimator-doc-link fitted\" rel=\"noreferrer\" target=\"_blank\" href=\"https://scikit-learn.org/1.6/modules/generated/sklearn.tree.DecisionTreeRegressor.html\">?<span>Documentation for DecisionTreeRegressor</span></a><span class=\"sk-estimator-doc-link fitted\">i<span>Fitted</span></span></div></label><div class=\"sk-toggleable__content fitted\"><pre>DecisionTreeRegressor(max_depth=10)</pre></div> </div></div></div></div>"
      ],
      "text/plain": [
       "DecisionTreeRegressor(max_depth=10)"
      ]
     },
     "execution_count": 300,
     "metadata": {},
     "output_type": "execute_result"
    }
   ],
   "source": [
    "decision_tree = DecisionTreeRegressor(max_depth=10)\n",
    "decision_tree.fit(X_train, y_train)"
   ]
  },
  {
   "cell_type": "code",
   "execution_count": 301,
   "id": "6cf05a5d-1acc-4a85-a977-3b1f119d2932",
   "metadata": {},
   "outputs": [
    {
     "name": "stdout",
     "output_type": "stream",
     "text": [
      "mean_absolute_error 9.728754913469862\n",
      "mean_squared_error 251.95712694073003\n",
      "root_mean_squared_error 15.873157434509684\n",
      "r2 0.2682652082785296\n"
     ]
    }
   ],
   "source": [
    "model_at_hand = decision_tree\n",
    "\n",
    "y_pred = model_at_hand.predict(X_test)\n",
    "\n",
    "print('mean_absolute_error', mean_absolute_error(y_test, y_pred))\n",
    "print('mean_squared_error', mean_squared_error(y_test, y_pred))\n",
    "print('root_mean_squared_error', sqrt(mean_squared_error(y_test, y_pred)))\n",
    "print('r2', r2_score(y_test, y_pred))"
   ]
  },
  {
   "cell_type": "code",
   "execution_count": 302,
   "id": "9f243530-16c9-4f03-9ee9-4b6d691ff382",
   "metadata": {},
   "outputs": [
    {
     "data": {
      "text/plain": [
       "<Axes: xlabel='true', ylabel='pred'>"
      ]
     },
     "execution_count": 302,
     "metadata": {},
     "output_type": "execute_result"
    },
    {
     "data": {
      "image/png": "[encoded data removed]",
      "text/plain": [
       "<Figure size 2000x1000 with 1 Axes>"
      ]
     },
     "metadata": {},
     "output_type": "display_data"
    }
   ],
   "source": [
    "data = {'true': y_test, 'pred': y_pred}\n",
    "results = pd.DataFrame(data)\n",
    "\n",
    "results.plot(figsize=(20,10), kind='scatter', x='true', y='pred')"
   ]
  },
  {
   "cell_type": "markdown",
   "id": "8b3aee61-2065-4baa-839c-a82469b05f50",
   "metadata": {},
   "source": [
    "## OVERFIT"
   ]
  },
  {
   "cell_type": "code",
   "execution_count": null,
   "id": "e837a482-0b09-42c2-9bcd-44717289a590",
   "metadata": {},
   "outputs": [],
   "source": []
  },
  {
   "cell_type": "markdown",
   "id": "3fc595e6-0f24-4153-a5d5-09d797c6c8e6",
   "metadata": {},
   "source": [
    "## UNDERFIT"
   ]
  },
  {
   "cell_type": "code",
   "execution_count": null,
   "id": "a11fa1f6-074c-4644-a5a2-d543d651510f",
   "metadata": {},
   "outputs": [],
   "source": []
  }
 ],
 "metadata": {
  "kernelspec": {
   "display_name": "Python 3 (ipykernel)",
   "language": "python",
   "name": "python3"
  },
  "language_info": {
   "codemirror_mode": {
    "name": "ipython",
    "version": 3
   },
   "file_extension": ".py",
   "mimetype": "text/x-python",
   "name": "python",
   "nbconvert_exporter": "python",
   "pygments_lexer": "ipython3",
   "version": "3.13.5"
  }
 },
 "nbformat": 4,
 "nbformat_minor": 5
}
